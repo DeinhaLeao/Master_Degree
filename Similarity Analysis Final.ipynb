{
 "cells": [
  {
   "cell_type": "markdown",
   "id": "ecf529a9",
   "metadata": {},
   "source": [
    "# Imports"
   ]
  },
  {
   "cell_type": "markdown",
   "id": "b281fb73",
   "metadata": {},
   "source": [
    "### Execute in terminal: echo 1 | sudo tee /proc/sys/vm/overcommit_memory"
   ]
  },
  {
   "cell_type": "code",
   "execution_count": 1,
   "id": "52cd7599",
   "metadata": {},
   "outputs": [],
   "source": [
    "# !pip install duckdb"
   ]
  },
  {
   "cell_type": "code",
   "execution_count": 2,
   "id": "0c3efdd5",
   "metadata": {
    "scrolled": true
   },
   "outputs": [
    {
     "name": "stderr",
     "output_type": "stream",
     "text": [
      "2023-09-15 22:42:54.239017: I tensorflow/core/util/port.cc:110] oneDNN custom operations are on. You may see slightly different numerical results due to floating-point round-off errors from different computation orders. To turn them off, set the environment variable `TF_ENABLE_ONEDNN_OPTS=0`.\n",
      "2023-09-15 22:42:54.266830: I tensorflow/tsl/cuda/cudart_stub.cc:28] Could not find cuda drivers on your machine, GPU will not be used.\n",
      "2023-09-15 22:42:54.472844: I tensorflow/tsl/cuda/cudart_stub.cc:28] Could not find cuda drivers on your machine, GPU will not be used.\n",
      "2023-09-15 22:42:54.474686: I tensorflow/core/platform/cpu_feature_guard.cc:182] This TensorFlow binary is optimized to use available CPU instructions in performance-critical operations.\n",
      "To enable the following instructions: AVX2 AVX512F AVX512_VNNI FMA, in other operations, rebuild TensorFlow with the appropriate compiler flags.\n",
      "2023-09-15 22:42:56.594962: W tensorflow/compiler/tf2tensorrt/utils/py_utils.cc:38] TF-TRT Warning: Could not find TensorRT\n"
     ]
    },
    {
     "name": "stdout",
     "output_type": "stream",
     "text": [
      "Importing the dtw module. When using in academic works please cite:\n",
      "  T. Giorgino. Computing and Visualizing Dynamic Time Warping Alignments in R: The dtw Package.\n",
      "  J. Stat. Soft., doi:10.18637/jss.v031.i07.\n",
      "\n"
     ]
    }
   ],
   "source": [
    "import matplotlib.pyplot as plt\n",
    "import pyarrow.parquet as pq\n",
    "import pyarrow.dataset as ds\n",
    "import tensorflow as tf\n",
    "import pyarrow as pa\n",
    "import scipy.spatial \n",
    "import pandas as pd\n",
    "import numpy as np\n",
    "import scipy.fft\n",
    "import duckdb\n",
    "import keras\n",
    "import os\n",
    "\n",
    "from sklearn.model_selection import train_test_split\n",
    "from sklearn.preprocessing import MinMaxScaler\n",
    "# from biosppy.signals import ecg\n",
    "from scipy import signal\n",
    "from pandas import DataFrame\n",
    "from pandas import concat\n",
    "from pathlib import Path\n",
    "from scipy import stats\n",
    "from dtw import *"
   ]
  },
  {
   "cell_type": "markdown",
   "id": "b3bd2663",
   "metadata": {},
   "source": [
    "# Variables"
   ]
  },
  {
   "cell_type": "code",
   "execution_count": 3,
   "id": "c78c0f10",
   "metadata": {},
   "outputs": [],
   "source": [
    "root_data_emg_path = Path(r'/media/s792288955/TOSHIBA EXT/Andrea/Kaggle/ClassifyGestures_EMG/')\n",
    "\n",
    "ecg_fs = 125  # frequency in Hz\n",
    "ecg_lowcut = 0.5  # low frequency in Hz\n",
    "ecg_highcut = 60  # hight frequency in Hz\n",
    "ecg_window_length = 20\n",
    "ecg_polyorder = 5\n",
    "\n",
    "emg_fs = 200  # frequency in Hz\n",
    "emg_lowcut = 0.5  # low frequency in Hz\n",
    "emg_highcut = 90  # hight frequency in Hz\n",
    "emg_window_length = 20\n",
    "emg_polyorder = 5"
   ]
  },
  {
   "cell_type": "markdown",
   "id": "0907eddd",
   "metadata": {},
   "source": [
    "# Datasets"
   ]
  },
  {
   "cell_type": "code",
   "execution_count": 4,
   "id": "d64e80b6",
   "metadata": {},
   "outputs": [
    {
     "name": "stdout",
     "output_type": "stream",
     "text": [
      "(664477, 61)\n",
      "(53158, 61)\n"
     ]
    }
   ],
   "source": [
    "# EEG\n",
    "\n",
    "# 10 seconds\n",
    "df_data_eeg_ori_v1_01_tcp_ar = pd.read_parquet(r'/media/s792288955/TOSHIBA EXT/Andrea/Datasets/10_sec/TUEG_V1_01_tcp_ar.parquet')\n",
    "df_data_eeg_ori_v1_02_tcp_le = pd.read_parquet(r'/media/s792288955/TOSHIBA EXT/Andrea/Datasets/10_sec/TUEG_V1_02_tcp_le.parquet')\n",
    "df_data_eeg_ori_v1_03_tcp_ar_a = pd.read_parquet(r'/media/s792288955/TOSHIBA EXT/Andrea/Datasets/10_sec/TUEG_V1_03_tcp_ar_a.parquet')\n",
    "df_data_eeg_ori_v1_04_tcp_le_a = pd.read_parquet(r'/media/s792288955/TOSHIBA EXT/Andrea/Datasets/10_sec/TUEG_V1_04_tcp_le_a.parquet')\n",
    "\n",
    "df_data_eeg_ori_v2_01_tcp_ar = pd.read_parquet(r'/media/s792288955/TOSHIBA EXT/Andrea/Datasets/10_sec/TUEG_V2_01_tcp_ar.parquet')\n",
    "df_data_eeg_ori_v2_03_tcp_ar_a = pd.read_parquet(r'/media/s792288955/TOSHIBA EXT/Andrea/Datasets/10_sec/TUEG_V2_03_tcp_ar_a.parquet')\n",
    "\n",
    "df_data_eeg_ori = pd.concat([df_data_eeg_ori_v1_01_tcp_ar, df_data_eeg_ori_v1_02_tcp_le,\n",
    "                             df_data_eeg_ori_v1_03_tcp_ar_a, df_data_eeg_ori_v1_04_tcp_le_a,\n",
    "                             df_data_eeg_ori_v2_01_tcp_ar, df_data_eeg_ori_v2_03_tcp_ar_a])\n",
    "\n",
    "print(df_data_eeg_ori.shape)\n",
    "\n",
    "con = duckdb.connect()\n",
    "con.register('TUEG_EEG', df_data_eeg_ori)                     \n",
    "# df_data_eeg_ori = con.execute(f\"SELECT * FROM TUEG_EEG LIMIT {int(df_data_eeg_ori.shape[0]*0.1)};\").df()\n",
    "df_data_eeg_ori = con.execute(f\"SELECT * FROM TUEG_EEG LIMIT {int(df_data_eeg_ori.shape[0]*0.08)};\").df()\n",
    "\n",
    "print(df_data_eeg_ori.shape)"
   ]
  },
  {
   "cell_type": "code",
   "execution_count": 5,
   "id": "58a07f4e",
   "metadata": {},
   "outputs": [
    {
     "name": "stdout",
     "output_type": "stream",
     "text": [
      "(102106, 188)\n",
      "(8168, 188)\n"
     ]
    }
   ],
   "source": [
    "#ECG\n",
    "df_data_ecg_train = pd.read_csv(r'/media/s792288955/TOSHIBA EXT/Andrea/Kaggle/ECG-Dataset/mitbih_train.csv',\n",
    "                          sep=',', header=None)\n",
    "\n",
    "df_data_ecg_abnormal = pd.read_csv(r'/media/s792288955/TOSHIBA EXT/Andrea/Kaggle/ECG-Dataset/ptbdb_abnormal.csv',\n",
    "                          sep=',', header=None)\n",
    "\n",
    "df_data_ecg_normal = pd.read_csv(r'/media/s792288955/TOSHIBA EXT/Andrea/Kaggle/ECG-Dataset/ptbdb_normal.csv',\n",
    "                          sep=',', header=None)\n",
    "\n",
    "\n",
    "df_data_ecg_train_ori = pd.concat([df_data_ecg_train, df_data_ecg_abnormal, df_data_ecg_normal], axis=0)\n",
    "\n",
    "print(df_data_ecg_train_ori.shape)\n",
    "\n",
    "con = duckdb.connect()\n",
    "con.register('ECG', df_data_ecg_train_ori)                    \n",
    "df_data_ecg_train_ori = con.execute(f\"SELECT * FROM ECG LIMIT {int(df_data_ecg_train_ori.shape[0]*0.08)};\").df()\n",
    "\n",
    "print(df_data_ecg_train_ori.shape)"
   ]
  },
  {
   "cell_type": "code",
   "execution_count": 6,
   "id": "51d89b84",
   "metadata": {},
   "outputs": [
    {
     "name": "stdout",
     "output_type": "stream",
     "text": [
      "(11678, 65)\n"
     ]
    }
   ],
   "source": [
    "#EMG\n",
    "all_filenames = [i for i in root_data_emg_path.glob('*.{}'.format('csv'))]\n",
    "\n",
    "df_data_emg_0_ori = pd.read_csv(all_filenames[0], \n",
    "                                sep=\",\", header=None)\n",
    "\n",
    "df_data_emg_1_ori = pd.read_csv(all_filenames[1], \n",
    "                                sep=\",\", header=None)\n",
    "\n",
    "df_data_emg_2_ori = pd.read_csv(all_filenames[2], \n",
    "                                 sep=\",\", header=None)\n",
    "\n",
    "df_data_emg_3_ori = pd.read_csv(all_filenames[3], \n",
    "                                   sep=\",\", header=None)\n",
    "\n",
    "df_data_emg_ori   = pd.concat([df_data_emg_0_ori,df_data_emg_1_ori,df_data_emg_2_ori,df_data_emg_3_ori], axis=0)\n",
    "\n",
    "print(df_data_emg_ori.shape)"
   ]
  },
  {
   "cell_type": "markdown",
   "id": "30736fd2",
   "metadata": {},
   "source": [
    "# Functions"
   ]
  },
  {
   "cell_type": "markdown",
   "id": "823ffb3e",
   "metadata": {},
   "source": [
    "# Pre Processing"
   ]
  },
  {
   "cell_type": "markdown",
   "id": "f5a1859c",
   "metadata": {},
   "source": [
    "### Steps EEG\n",
    "\n",
    "#### 1 - Selec groups of signals "
   ]
  },
  {
   "cell_type": "code",
   "execution_count": 7,
   "id": "b263e722",
   "metadata": {},
   "outputs": [
    {
     "name": "stdout",
     "output_type": "stream",
     "text": [
      "(53158, 20)\n"
     ]
    }
   ],
   "source": [
    "# Split into X and Y\n",
    "X_train_eeg = df_data_eeg_ori[[\"A2\", \"F3\", \"F4\", \"F7\", \"F8\", \"FP1\", \"FP2\", \"FZ\", \n",
    "                               \"T3\", \"T4\", \"T5\", \"T6\", \"C3\", \"C4\", \"CZ\", \"O1\", \n",
    "                               \"O2\", \"P3\", \"P4\", \"PZ\"]].copy()\n",
    "\n",
    "print(X_train_eeg.shape)"
   ]
  },
  {
   "cell_type": "code",
   "execution_count": 8,
   "id": "2249513e",
   "metadata": {},
   "outputs": [
    {
     "name": "stdout",
     "output_type": "stream",
     "text": [
      "X_train_eeg_np =  (53158, 20)\n"
     ]
    }
   ],
   "source": [
    "# ensure all data is float\n",
    "X_train_eeg = X_train_eeg.astype('float64')\n",
    "\n",
    "# The input dims are 20\n",
    "X_train_eeg_np = X_train_eeg.to_numpy()\n",
    "\n",
    "# Normalizing the amplitude values to the range of between zero and one.\n",
    "scaler_eeg = MinMaxScaler()\n",
    "\n",
    "X_train_eeg_filtered = X_train_eeg_np.reshape(X_train_eeg_np.shape[0], -1)\n",
    "X_train_eeg_np_normalized = scaler_eeg.fit_transform(X_train_eeg_filtered)\n",
    "\n",
    "# Add a channel dimension to the input\n",
    "X_train_eeg_np = X_train_eeg_np_normalized.reshape(-1, 20)\n",
    "\n",
    "# X_train_eeg_np = X_train_eeg_np.reshape(-1, 20)\n",
    "\n",
    "print(\"X_train_eeg_np = \", X_train_eeg_np.shape)"
   ]
  },
  {
   "cell_type": "code",
   "execution_count": 9,
   "id": "e13903c2",
   "metadata": {},
   "outputs": [
    {
     "name": "stdout",
     "output_type": "stream",
     "text": [
      "(53158, 40)\n"
     ]
    }
   ],
   "source": [
    "# Fourier Transforms (FFTs) to work in frequency domain.\n",
    "df_train_eeg_freq  = scipy.fft.fft2(X_train_eeg_np).view(np.float64)\n",
    "\n",
    "print(df_train_eeg_freq.shape)"
   ]
  },
  {
   "cell_type": "markdown",
   "id": "cee40c77",
   "metadata": {},
   "source": [
    "### Steps ECG\n",
    "\n",
    "#### 1 - Segment ECG signals in groups of 29 features."
   ]
  },
  {
   "cell_type": "code",
   "execution_count": 10,
   "id": "0bf9d971",
   "metadata": {},
   "outputs": [
    {
     "name": "stdout",
     "output_type": "stream",
     "text": [
      "(8168, 186)\n"
     ]
    }
   ],
   "source": [
    "# split into input \n",
    "X_train_ecg = df_data_ecg_train_ori.iloc[:,   :-2].copy()\n",
    "\n",
    "print(X_train_ecg.shape)"
   ]
  },
  {
   "cell_type": "code",
   "execution_count": 11,
   "id": "3e4ef8cf",
   "metadata": {},
   "outputs": [
    {
     "name": "stdout",
     "output_type": "stream",
     "text": [
      "X_train_ecg_np =  (8168, 186)\n"
     ]
    }
   ],
   "source": [
    "# ensure all data is float\n",
    "X_train_ecg = X_train_ecg.astype('float64')\n",
    "\n",
    "# The input has to be (batch_size, 1, 187)\n",
    "X_train_ecg_np = X_train_ecg.to_numpy()\n",
    "\n",
    "# Normalizing the amplitude values to the range of between zero and one.\n",
    "scaler_ecg = MinMaxScaler()\n",
    "\n",
    "X_train_ecg_np = X_train_ecg_np.reshape(X_train_ecg_np.shape[0], -1)\n",
    "X_train_ecg_np_normalized = scaler_ecg.fit_transform(X_train_ecg_np)\n",
    "\n",
    "# Add a channel dimension to the input\n",
    "X_train_ecg_np = X_train_ecg_np_normalized.reshape(-1, 186)\n",
    "\n",
    "# X_train_ecg_np = X_train_ecg_np.reshape(-1, 186)\n",
    "\n",
    "print(\"X_train_ecg_np = \", X_train_ecg_np.shape)"
   ]
  },
  {
   "cell_type": "code",
   "execution_count": 12,
   "id": "1db9d6a1",
   "metadata": {},
   "outputs": [
    {
     "name": "stdout",
     "output_type": "stream",
     "text": [
      "(8168, 20)\n",
      "(8168, 20)\n",
      "(8168, 20)\n",
      "(8168, 20)\n",
      "(8168, 20)\n",
      "(8168, 20)\n",
      "(8168, 20)\n",
      "(8168, 20)\n",
      "(8168, 20)\n"
     ]
    }
   ],
   "source": [
    "X_train_ecg_1 = X_train_ecg_np[:,    :20].copy()\n",
    "X_train_ecg_2 = X_train_ecg_np[:,  20:40].copy()\n",
    "X_train_ecg_3 = X_train_ecg_np[:,  40:60].copy()\n",
    "X_train_ecg_4 = X_train_ecg_np[:,  60:80].copy()\n",
    "X_train_ecg_5 = X_train_ecg_np[:,  80:100].copy()\n",
    "X_train_ecg_6 = X_train_ecg_np[:, 100:120].copy()\n",
    "X_train_ecg_7 = X_train_ecg_np[:, 120:140].copy()\n",
    "X_train_ecg_8 = X_train_ecg_np[:, 140:160].copy()\n",
    "X_train_ecg_9 = X_train_ecg_np[:, 160:180].copy()\n",
    "\n",
    "print(X_train_ecg_1.shape)\n",
    "print(X_train_ecg_2.shape)\n",
    "print(X_train_ecg_3.shape)\n",
    "print(X_train_ecg_4.shape)\n",
    "print(X_train_ecg_5.shape)\n",
    "print(X_train_ecg_6.shape)\n",
    "print(X_train_ecg_7.shape)\n",
    "print(X_train_ecg_8.shape)\n",
    "print(X_train_ecg_9.shape)"
   ]
  },
  {
   "cell_type": "code",
   "execution_count": 13,
   "id": "fe835b6d",
   "metadata": {},
   "outputs": [],
   "source": [
    "# remove low and high noise frequecy\n",
    "ecg_b, ecg_a = signal.butter(4, [ecg_lowcut / (ecg_fs/2), ecg_highcut / (ecg_fs/2)], 'band')\n",
    "X_train_ecg_1_filtered = signal.filtfilt(ecg_b, ecg_a, X_train_ecg_1, padlen=X_train_ecg_1.shape[1]-1)\n",
    "X_train_ecg_2_filtered = signal.filtfilt(ecg_b, ecg_a, X_train_ecg_2, padlen=X_train_ecg_2.shape[1]-1)\n",
    "X_train_ecg_3_filtered = signal.filtfilt(ecg_b, ecg_a, X_train_ecg_3, padlen=X_train_ecg_3.shape[1]-1)\n",
    "X_train_ecg_4_filtered = signal.filtfilt(ecg_b, ecg_a, X_train_ecg_4, padlen=X_train_ecg_4.shape[1]-1)\n",
    "X_train_ecg_5_filtered = signal.filtfilt(ecg_b, ecg_a, X_train_ecg_5, padlen=X_train_ecg_5.shape[1]-1)\n",
    "X_train_ecg_6_filtered = signal.filtfilt(ecg_b, ecg_a, X_train_ecg_6, padlen=X_train_ecg_6.shape[1]-1)\n",
    "X_train_ecg_7_filtered = signal.filtfilt(ecg_b, ecg_a, X_train_ecg_7, padlen=X_train_ecg_7.shape[1]-1)\n",
    "X_train_ecg_8_filtered = signal.filtfilt(ecg_b, ecg_a, X_train_ecg_8, padlen=X_train_ecg_8.shape[1]-1)\n",
    "X_train_ecg_9_filtered = signal.filtfilt(ecg_b, ecg_a, X_train_ecg_9, padlen=X_train_ecg_9.shape[1]-1)\n",
    "\n",
    "\n",
    "# Apply moving average to remove high noise\n",
    "X_train_ecg_1_filtered = signal.savgol_filter(X_train_ecg_1_filtered, ecg_window_length, ecg_polyorder)\n",
    "X_train_ecg_2_filtered = signal.savgol_filter(X_train_ecg_2_filtered, ecg_window_length, ecg_polyorder)\n",
    "X_train_ecg_3_filtered = signal.savgol_filter(X_train_ecg_3_filtered, ecg_window_length, ecg_polyorder)\n",
    "X_train_ecg_4_filtered = signal.savgol_filter(X_train_ecg_4_filtered, ecg_window_length, ecg_polyorder)\n",
    "X_train_ecg_5_filtered = signal.savgol_filter(X_train_ecg_5_filtered, ecg_window_length, ecg_polyorder)\n",
    "X_train_ecg_6_filtered = signal.savgol_filter(X_train_ecg_6_filtered, ecg_window_length, ecg_polyorder)\n",
    "X_train_ecg_7_filtered = signal.savgol_filter(X_train_ecg_7_filtered, ecg_window_length, ecg_polyorder)\n",
    "X_train_ecg_8_filtered = signal.savgol_filter(X_train_ecg_8_filtered, ecg_window_length, ecg_polyorder)\n",
    "X_train_ecg_9_filtered = signal.savgol_filter(X_train_ecg_9_filtered, ecg_window_length, ecg_polyorder)\n"
   ]
  },
  {
   "cell_type": "code",
   "execution_count": 14,
   "id": "67a4c3b5",
   "metadata": {},
   "outputs": [],
   "source": [
    "# Fourier Transforms (FFTs) to work in frequency domain.\n",
    "df_ecg_1_freq  = scipy.fft.fft2(X_train_ecg_1_filtered).view(np.float64)\n",
    "df_ecg_2_freq  = scipy.fft.fft2(X_train_ecg_2_filtered).view(np.float64)\n",
    "df_ecg_3_freq  = scipy.fft.fft2(X_train_ecg_3_filtered).view(np.float64)\n",
    "df_ecg_4_freq  = scipy.fft.fft2(X_train_ecg_4_filtered).view(np.float64)\n",
    "df_ecg_5_freq  = scipy.fft.fft2(X_train_ecg_5_filtered).view(np.float64)\n",
    "df_ecg_6_freq  = scipy.fft.fft2(X_train_ecg_6_filtered).view(np.float64)\n",
    "df_ecg_7_freq  = scipy.fft.fft2(X_train_ecg_7_filtered).view(np.float64)\n",
    "df_ecg_8_freq  = scipy.fft.fft2(X_train_ecg_8_filtered).view(np.float64)\n",
    "df_ecg_9_freq  = scipy.fft.fft2(X_train_ecg_9_filtered).view(np.float64)\n"
   ]
  },
  {
   "cell_type": "code",
   "execution_count": 15,
   "id": "f5b727b5",
   "metadata": {},
   "outputs": [
    {
     "name": "stdout",
     "output_type": "stream",
     "text": [
      "(8168, 40)\n",
      "(8168, 40)\n",
      "(8168, 40)\n",
      "(8168, 40)\n",
      "(8168, 40)\n",
      "(8168, 40)\n",
      "(8168, 40)\n",
      "(8168, 40)\n",
      "(8168, 40)\n"
     ]
    }
   ],
   "source": [
    "print(df_ecg_1_freq.shape)\n",
    "print(df_ecg_2_freq.shape)\n",
    "print(df_ecg_3_freq.shape)\n",
    "print(df_ecg_4_freq.shape)\n",
    "print(df_ecg_5_freq.shape)\n",
    "print(df_ecg_6_freq.shape)\n",
    "print(df_ecg_7_freq.shape)\n",
    "print(df_ecg_8_freq.shape)\n",
    "print(df_ecg_9_freq.shape)"
   ]
  },
  {
   "cell_type": "markdown",
   "id": "785d4c8f",
   "metadata": {},
   "source": [
    "### Steps EMG\n",
    "\n",
    "#### 1 - Divide the EMG in 4 groups (repects the extraction strategy)"
   ]
  },
  {
   "cell_type": "code",
   "execution_count": 16,
   "id": "e5f042af",
   "metadata": {},
   "outputs": [
    {
     "name": "stdout",
     "output_type": "stream",
     "text": [
      "(11678, 64)\n"
     ]
    }
   ],
   "source": [
    "# Split into X\n",
    "X_train_emg = df_data_emg_ori.iloc[:,   :-1].copy()\n",
    "\n",
    "print(X_train_emg.shape)"
   ]
  },
  {
   "cell_type": "code",
   "execution_count": 17,
   "id": "f6064027",
   "metadata": {},
   "outputs": [
    {
     "name": "stdout",
     "output_type": "stream",
     "text": [
      "X_train_emg_np =  (11678, 64)\n"
     ]
    }
   ],
   "source": [
    "# ensure all data is float\n",
    "X_train_emg = X_train_emg.astype('float64')\n",
    "\n",
    "# The input dims are 64 \n",
    "X_train_emg_np = X_train_emg.to_numpy()\n",
    "\n",
    "# Normalizing the amplitude values to the range of between zero and one.\n",
    "scaler_emg = MinMaxScaler()\n",
    "\n",
    "X_train_emg_np = X_train_emg_np.reshape(X_train_emg_np.shape[0], -1)\n",
    "X_train_emg_np_normalized = scaler_emg.fit_transform(X_train_emg_np)\n",
    "\n",
    "# Add a channel dimension to the input\n",
    "X_train_emg_np = X_train_emg_np_normalized.reshape(-1, 64)\n",
    "\n",
    "# X_train_emg_np = X_train_emg_np.reshape(-1, 64)\n",
    "\n",
    "print(\"X_train_emg_np = \", X_train_emg_np.shape)"
   ]
  },
  {
   "cell_type": "code",
   "execution_count": 18,
   "id": "2c392f86",
   "metadata": {},
   "outputs": [
    {
     "name": "stdout",
     "output_type": "stream",
     "text": [
      "(8168, 20)\n",
      "(8168, 20)\n",
      "(8168, 20)\n"
     ]
    }
   ],
   "source": [
    "X_train_emg_1 = X_train_ecg_np[:,    :20].copy()\n",
    "X_train_emg_2 = X_train_ecg_np[:,  20:40].copy()\n",
    "X_train_emg_3 = X_train_ecg_np[:,  40:60].copy()\n",
    "\n",
    "print(X_train_emg_1.shape)\n",
    "print(X_train_emg_2.shape)\n",
    "print(X_train_emg_3.shape)"
   ]
  },
  {
   "cell_type": "code",
   "execution_count": 19,
   "id": "db1ec55f",
   "metadata": {},
   "outputs": [],
   "source": [
    "# signal.butter - Design an Nth-order digital or analog Butterworth filter and return the filter coefficients.\n",
    "emg_b, emg_a = signal.butter(4, [emg_lowcut / (emg_fs/2), emg_highcut / (emg_fs/2)], 'band')\n",
    "X_train_emg_1_filtered = signal.filtfilt(emg_b, emg_a, X_train_emg_1, padlen=X_train_emg_1.shape[1]-1)\n",
    "X_train_emg_2_filtered = signal.filtfilt(emg_b, emg_a, X_train_emg_2, padlen=X_train_emg_2.shape[1]-1)\n",
    "X_train_emg_3_filtered = signal.filtfilt(emg_b, emg_a, X_train_emg_3, padlen=X_train_emg_3.shape[1]-1)\n",
    "\n",
    "# Apply moving average to remove high noise\n",
    "X_train_emg_1_filtered = signal.savgol_filter(X_train_emg_1_filtered, emg_window_length, emg_polyorder)\n",
    "X_train_emg_2_filtered = signal.savgol_filter(X_train_emg_2_filtered, emg_window_length, emg_polyorder)\n",
    "X_train_emg_3_filtered = signal.savgol_filter(X_train_emg_3_filtered, emg_window_length, emg_polyorder)"
   ]
  },
  {
   "cell_type": "code",
   "execution_count": 20,
   "id": "b70a99b2",
   "metadata": {},
   "outputs": [],
   "source": [
    "# Fourier Transforms (FFTs) to work in frequency domain.\n",
    "df_emg_1_freq  = scipy.fft.fft2(X_train_emg_1_filtered).view(np.float64)\n",
    "df_emg_2_freq  = scipy.fft.fft2(X_train_emg_2_filtered).view(np.float64)\n",
    "df_emg_3_freq  = scipy.fft.fft2(X_train_emg_3_filtered).view(np.float64)\n"
   ]
  },
  {
   "cell_type": "code",
   "execution_count": 21,
   "id": "d2242eb9",
   "metadata": {},
   "outputs": [
    {
     "name": "stdout",
     "output_type": "stream",
     "text": [
      "(8168, 40)\n",
      "(8168, 40)\n",
      "(8168, 40)\n"
     ]
    }
   ],
   "source": [
    "print(df_emg_1_freq.shape)\n",
    "print(df_emg_2_freq.shape)\n",
    "print(df_emg_3_freq.shape)"
   ]
  },
  {
   "cell_type": "markdown",
   "id": "54a2b6de",
   "metadata": {},
   "source": [
    "# Similarity evaluation\n",
    "\n",
    "## Steps\n",
    "\n",
    "### 1 -  Calculate the dtw's similarity rate for each group\n",
    "### 2 - Select the group with lower rate to train the model and transfer the learning"
   ]
  },
  {
   "cell_type": "markdown",
   "id": "90942432",
   "metadata": {},
   "source": [
    "### ECG-EEG Similarities"
   ]
  },
  {
   "cell_type": "code",
   "execution_count": 22,
   "id": "7dacb713",
   "metadata": {
    "scrolled": false
   },
   "outputs": [],
   "source": [
    "dtw_ecg_eeg_frontal_1  = dtw(df_train_eeg_freq, df_ecg_1_freq)\n",
    "dtw_ecg_eeg_frontal_2  = dtw(df_train_eeg_freq, df_ecg_2_freq)\n",
    "dtw_ecg_eeg_frontal_3  = dtw(df_train_eeg_freq, df_ecg_3_freq)\n",
    "dtw_ecg_eeg_frontal_4  = dtw(df_train_eeg_freq, df_ecg_4_freq)\n",
    "dtw_ecg_eeg_frontal_5  = dtw(df_train_eeg_freq, df_ecg_5_freq)\n",
    "dtw_ecg_eeg_frontal_6  = dtw(df_train_eeg_freq, df_ecg_6_freq)\n",
    "dtw_ecg_eeg_frontal_7  = dtw(df_train_eeg_freq, df_ecg_7_freq)\n",
    "dtw_ecg_eeg_frontal_8  = dtw(df_train_eeg_freq, df_ecg_8_freq)\n",
    "dtw_ecg_eeg_frontal_9  = dtw(df_train_eeg_freq, df_ecg_9_freq)"
   ]
  },
  {
   "cell_type": "code",
   "execution_count": 23,
   "id": "0256dcb0",
   "metadata": {
    "scrolled": true
   },
   "outputs": [
    {
     "name": "stdout",
     "output_type": "stream",
     "text": [
      "15760857.804772621\n",
      "13472402.478133228\n",
      "13680336.216750799\n",
      "15381831.09107019\n",
      "16991571.016822305\n",
      "15334382.71187192\n",
      "14907344.557979504\n",
      "13825110.35204897\n",
      "13059530.498655513\n"
     ]
    }
   ],
   "source": [
    "print(dtw_ecg_eeg_frontal_1.distance)\n",
    "print(dtw_ecg_eeg_frontal_2.distance)\n",
    "print(dtw_ecg_eeg_frontal_3.distance)\n",
    "print(dtw_ecg_eeg_frontal_4.distance)\n",
    "print(dtw_ecg_eeg_frontal_5.distance)\n",
    "print(dtw_ecg_eeg_frontal_6.distance)\n",
    "print(dtw_ecg_eeg_frontal_7.distance)\n",
    "print(dtw_ecg_eeg_frontal_8.distance)\n",
    "print(dtw_ecg_eeg_frontal_9.distance)"
   ]
  },
  {
   "cell_type": "markdown",
   "id": "3487aca7",
   "metadata": {},
   "source": [
    "### EEG-EMG Similarities"
   ]
  },
  {
   "cell_type": "code",
   "execution_count": 24,
   "id": "d3c216d3",
   "metadata": {},
   "outputs": [],
   "source": [
    "#EMG group 1\n",
    "dtw_ecg_emg_group1_1  = dtw(df_emg_1_freq, df_ecg_1_freq)\n",
    "dtw_ecg_emg_group1_2  = dtw(df_emg_1_freq, df_ecg_2_freq)\n",
    "dtw_ecg_emg_group1_3  = dtw(df_emg_1_freq, df_ecg_3_freq)\n",
    "dtw_ecg_emg_group1_4  = dtw(df_emg_1_freq, df_ecg_4_freq)\n",
    "dtw_ecg_emg_group1_5  = dtw(df_emg_1_freq, df_ecg_5_freq)\n",
    "dtw_ecg_emg_group1_6  = dtw(df_emg_1_freq, df_ecg_6_freq)\n",
    "dtw_ecg_emg_group1_7  = dtw(df_emg_1_freq, df_ecg_7_freq)\n",
    "dtw_ecg_emg_group1_8  = dtw(df_emg_1_freq, df_ecg_8_freq)\n",
    "dtw_ecg_emg_group1_9  = dtw(df_emg_1_freq, df_ecg_9_freq)"
   ]
  },
  {
   "cell_type": "code",
   "execution_count": 25,
   "id": "cd3e2948",
   "metadata": {
    "scrolled": true
   },
   "outputs": [
    {
     "name": "stdout",
     "output_type": "stream",
     "text": [
      "1340306.2472125462\n",
      "3553066.498230459\n",
      "3645908.8747261507\n",
      "4707653.567468465\n",
      "5240276.331126137\n",
      "4494367.626354662\n",
      "4136901.654236917\n",
      "3621572.598349525\n",
      "3255046.6210161946\n"
     ]
    }
   ],
   "source": [
    "# ECG-EMG Group1\n",
    "\n",
    "print(dtw_ecg_emg_group1_1.distance)\n",
    "print(dtw_ecg_emg_group1_2.distance)\n",
    "print(dtw_ecg_emg_group1_3.distance)\n",
    "print(dtw_ecg_emg_group1_4.distance)\n",
    "print(dtw_ecg_emg_group1_5.distance)\n",
    "print(dtw_ecg_emg_group1_6.distance)\n",
    "print(dtw_ecg_emg_group1_7.distance)\n",
    "print(dtw_ecg_emg_group1_8.distance)\n",
    "print(dtw_ecg_emg_group1_9.distance)"
   ]
  },
  {
   "cell_type": "code",
   "execution_count": 26,
   "id": "432b0693",
   "metadata": {},
   "outputs": [],
   "source": [
    "#EMG group 2\n",
    "dtw_ecg_emg_group2_1  = dtw(df_emg_2_freq, df_ecg_1_freq)\n",
    "dtw_ecg_emg_group2_2  = dtw(df_emg_2_freq, df_ecg_2_freq)\n",
    "dtw_ecg_emg_group2_3  = dtw(df_emg_2_freq, df_ecg_3_freq)\n",
    "dtw_ecg_emg_group2_4  = dtw(df_emg_2_freq, df_ecg_4_freq)\n",
    "dtw_ecg_emg_group2_5  = dtw(df_emg_2_freq, df_ecg_5_freq)\n",
    "dtw_ecg_emg_group2_6  = dtw(df_emg_2_freq, df_ecg_6_freq)\n",
    "dtw_ecg_emg_group2_7  = dtw(df_emg_2_freq, df_ecg_7_freq)\n",
    "dtw_ecg_emg_group2_8  = dtw(df_emg_2_freq, df_ecg_8_freq)\n",
    "dtw_ecg_emg_group2_9  = dtw(df_emg_2_freq, df_ecg_9_freq)"
   ]
  },
  {
   "cell_type": "code",
   "execution_count": 27,
   "id": "b9ff181a",
   "metadata": {},
   "outputs": [
    {
     "name": "stdout",
     "output_type": "stream",
     "text": [
      "4093548.9832320595\n",
      "266810.0151487971\n",
      "2017561.8501622311\n",
      "3430521.7335955994\n",
      "4216798.181652939\n",
      "3369093.46295432\n",
      "2920498.624273856\n",
      "2141149.392583915\n",
      "1593389.1851932856\n"
     ]
    }
   ],
   "source": [
    "# ECG-EMG Group2\n",
    "\n",
    "print(dtw_ecg_emg_group2_1.distance)\n",
    "print(dtw_ecg_emg_group2_2.distance)\n",
    "print(dtw_ecg_emg_group2_3.distance)\n",
    "print(dtw_ecg_emg_group2_4.distance)\n",
    "print(dtw_ecg_emg_group2_5.distance)\n",
    "print(dtw_ecg_emg_group2_6.distance)\n",
    "print(dtw_ecg_emg_group2_7.distance)\n",
    "print(dtw_ecg_emg_group2_8.distance)\n",
    "print(dtw_ecg_emg_group2_9.distance)\n",
    "\n"
   ]
  },
  {
   "cell_type": "code",
   "execution_count": 28,
   "id": "a4444bde",
   "metadata": {},
   "outputs": [],
   "source": [
    "#EMG group 3\n",
    "dtw_ecg_emg_group3_1  = dtw(df_emg_3_freq, df_ecg_1_freq)\n",
    "dtw_ecg_emg_group3_2  = dtw(df_emg_3_freq, df_ecg_2_freq)\n",
    "dtw_ecg_emg_group3_3  = dtw(df_emg_3_freq, df_ecg_3_freq)\n",
    "dtw_ecg_emg_group3_4  = dtw(df_emg_3_freq, df_ecg_4_freq)\n",
    "dtw_ecg_emg_group3_5  = dtw(df_emg_3_freq, df_ecg_5_freq)\n",
    "dtw_ecg_emg_group3_6  = dtw(df_emg_3_freq, df_ecg_6_freq)\n",
    "dtw_ecg_emg_group3_7  = dtw(df_emg_3_freq, df_ecg_7_freq)\n",
    "dtw_ecg_emg_group3_8  = dtw(df_emg_3_freq, df_ecg_8_freq)\n",
    "dtw_ecg_emg_group3_9  = dtw(df_emg_3_freq, df_ecg_9_freq)"
   ]
  },
  {
   "cell_type": "code",
   "execution_count": 29,
   "id": "c2f4262a",
   "metadata": {},
   "outputs": [
    {
     "name": "stdout",
     "output_type": "stream",
     "text": [
      "4181646.8972145277\n",
      "2005082.7887081318\n",
      "315080.0363121554\n",
      "3504677.2269330733\n",
      "4280958.175688838\n",
      "3438431.1960294074\n",
      "3006543.092549872\n",
      "2267203.069618775\n",
      "1732921.4092676388\n"
     ]
    }
   ],
   "source": [
    "# ECG-EMG Group3\n",
    "\n",
    "print(dtw_ecg_emg_group3_1.distance)\n",
    "print(dtw_ecg_emg_group3_2.distance)\n",
    "print(dtw_ecg_emg_group3_3.distance)\n",
    "print(dtw_ecg_emg_group3_4.distance)\n",
    "print(dtw_ecg_emg_group3_5.distance)\n",
    "print(dtw_ecg_emg_group3_6.distance)\n",
    "print(dtw_ecg_emg_group3_7.distance)\n",
    "print(dtw_ecg_emg_group3_8.distance)\n",
    "print(dtw_ecg_emg_group3_9.distance)\n"
   ]
  }
 ],
 "metadata": {
  "kernelspec": {
   "display_name": "Python 3 (ipykernel)",
   "language": "python",
   "name": "python3"
  },
  "language_info": {
   "codemirror_mode": {
    "name": "ipython",
    "version": 3
   },
   "file_extension": ".py",
   "mimetype": "text/x-python",
   "name": "python",
   "nbconvert_exporter": "python",
   "pygments_lexer": "ipython3",
   "version": "3.9.13"
  }
 },
 "nbformat": 4,
 "nbformat_minor": 5
}
