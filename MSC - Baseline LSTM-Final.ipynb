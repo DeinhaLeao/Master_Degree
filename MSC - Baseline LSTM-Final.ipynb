{
 "cells": [
  {
   "cell_type": "markdown",
   "metadata": {},
   "source": [
    "# 1ª Baseline LSTM\n",
    "## Steps\n",
    "### 1 - Evaluate the similarity between signals\n",
    "### 2 - To build and train a recurrent neural network model to extract the features of the EEG segment with  70% similarity or higher\n",
    "### 3 - To build another recurrent neural network model, transfer the learned parameters from the EEG segments, and process the target domain\n",
    "\n",
    "# Imports"
   ]
  },
  {
   "cell_type": "code",
   "execution_count": 5,
   "metadata": {
    "scrolled": true
   },
   "outputs": [],
   "source": [
    "# !pip install pandas pyarrow tensorflow h5py \n",
    "\n",
    "# !pip install numpy --upgrade --user\n",
    "\n",
    "# !pip install tensorflow --upgrade --user\n",
    "\n",
    "# !pip install keras --upgrade --user\n",
    "\n",
    "# !pip install dtw-python\n",
    "\n",
    "# !pip install scipy\n",
    "\n",
    "# !pip install plot_keras_history\n",
    "\n",
    "# !pip install matplotlib\n",
    "\n",
    "# !pip install scikit-learn"
   ]
  },
  {
   "cell_type": "code",
   "execution_count": 6,
   "metadata": {
    "scrolled": true
   },
   "outputs": [],
   "source": [
    "import matplotlib.pyplot as plt\n",
    "import pyarrow.parquet as pq\n",
    "from scipy import signal\n",
    "import tensorflow as tf\n",
    "import pyarrow as pa\n",
    "import pandas as pd\n",
    "import numpy as np\n",
    "import scipy.fft \n",
    "import datetime\n",
    "import keras\n",
    "import glob\n",
    "import os\n",
    "\n",
    "\n",
    "from keras.layers import LSTM, Bidirectional, Dense, Dropout, Flatten, BatchNormalization\n",
    "from sklearn.metrics import accuracy_score, f1_score, precision_score, recall_score\n",
    "from plot_keras_history import show_history, plot_history\n",
    "from keras.models import Sequential, model_from_json\n",
    "from sklearn.model_selection import train_test_split\n",
    "from sklearn.preprocessing import MinMaxScaler\n",
    "from tensorflow.keras import regularizers\n",
    "from keras.callbacks import Callback\n",
    "from keras.utils import plot_model\n",
    "from pandas import DataFrame\n",
    "from pandas import concat\n",
    "from pathlib import Path\n",
    "from dtw import *"
   ]
  },
  {
   "cell_type": "markdown",
   "metadata": {},
   "source": [
    "# Variables"
   ]
  },
  {
   "cell_type": "code",
   "execution_count": 7,
   "metadata": {
    "scrolled": true
   },
   "outputs": [],
   "source": [
    "root_data_eeg_path = Path(r'/media/s792288955/TOSHIBA EXT/Andrea/Datasets/10_sec/')\n",
    "root_data_ecg_path = Path(r'/media/s792288955/TOSHIBA EXT/Andrea/Kaggle/ECG-Dataset/')\n",
    "root_data_emg_path = Path(r'/media/s792288955/TOSHIBA EXT/Andrea/Kaggle/ClassifyGestures_EMG/')\n",
    "\n",
    "scaler = MinMaxScaler(feature_range=(0, 1))\n",
    "SEED = 1957\n",
    "learning_rate = 0.001\n",
    "n_features = 4\n",
    "BATCH_SIZE = 64\n",
    "SHUFFLE_BUFFER_SIZE = BATCH_SIZE * 2\n",
    "\n",
    "ecg_fs = 125  # frequency in Hz\n",
    "ecg_lowcut = 0.5  # low frequency in Hz\n",
    "ecg_highcut = 40  # hight frequency in Hz\n",
    "ecg_window_length = 20\n",
    "ecg_polyorder = 5\n",
    "\n",
    "emg_fs = 200  # frequency in Hz\n",
    "emg_lowcut = 0.15  # low frequency in Hz\n",
    "emg_highcut = 40  # hight frequency in Hz\n",
    "emg_window_length = 20\n",
    "emg_polyorder = 5"
   ]
  },
  {
   "cell_type": "markdown",
   "metadata": {},
   "source": [
    "# Datasets"
   ]
  },
  {
   "cell_type": "code",
   "execution_count": 8,
   "metadata": {},
   "outputs": [],
   "source": [
    "# EEG\n",
    "\n",
    "# 15 seconds\n",
    "df_data_eeg_ori_v1_01_tcp_ar = pd.read_parquet(r'/media/s792288955/TOSHIBA EXT/Andrea/Datasets/15_sec/v1_1_0_01_tcp_ar.parquet')\n",
    "df_data_eeg_ori_v1_02_tcp_le = pd.read_parquet(r'/media/s792288955/TOSHIBA EXT/Andrea/Datasets/15_sec/v1_1_0_02_tcp_le.parquet')\n",
    "df_data_eeg_ori_v1_03_tcp_ar_a = pd.read_parquet(r'/media/s792288955/TOSHIBA EXT/Andrea/Datasets/15_sec/v1_1_0_03_tcp_ar_a.parquet')\n",
    "df_data_eeg_ori_v1_04_tcp_le_a = pd.read_parquet(r'/media/s792288955/TOSHIBA EXT/Andrea/Datasets/15_sec/v1_1_0_04_tcp_le_a.parquet')\n",
    "\n",
    "df_data_eeg_ori_v2_01_tcp_ar = pd.read_parquet(r'/media/s792288955/TOSHIBA EXT/Andrea/Datasets/15_sec/v1_2_0_01_tcp_ar.parquet')\n",
    "df_data_eeg_ori_v2_03_tcp_ar_a = pd.read_parquet(r'/media/s792288955/TOSHIBA EXT/Andrea/Datasets/15_sec/v1_2_0_03_tcp_ar_a.parquet')\n",
    "\n",
    "df_data_eeg_ori = pd.concat([df_data_eeg_ori_v1_01_tcp_ar, \n",
    "                             df_data_eeg_ori_v1_02_tcp_le,\n",
    "                             df_data_eeg_ori_v1_03_tcp_ar_a, \n",
    "                             df_data_eeg_ori_v1_04_tcp_le_a,\n",
    "                             df_data_eeg_ori_v2_01_tcp_ar, \n",
    "                             df_data_eeg_ori_v2_03_tcp_ar_a])"
   ]
  },
  {
   "cell_type": "code",
   "execution_count": 9,
   "metadata": {
    "scrolled": true
   },
   "outputs": [],
   "source": [
    "#ECG\n",
    "df_data_ecg_train = pd.read_csv(r'/media/s792288955/TOSHIBA EXT/Andrea/Kaggle/ECG-Dataset/mitbih_train.csv',\n",
    "                          sep=',', header=None)\n",
    "\n",
    "df_data_ecg_abnormal = pd.read_csv(r'/media/s792288955/TOSHIBA EXT/Andrea/Kaggle/ECG-Dataset/ptbdb_abnormal.csv',\n",
    "                          sep=',', header=None)\n",
    "\n",
    "df_data_ecg_normal = pd.read_csv(r'/media/s792288955/TOSHIBA EXT/Andrea/Kaggle/ECG-Dataset/ptbdb_normal.csv',\n",
    "                          sep=',', header=None)\n",
    "\n",
    "\n",
    "df_data_ecg_train_ori = pd.concat([df_data_ecg_train, df_data_ecg_abnormal, df_data_ecg_normal], axis=0)\n",
    "\n",
    "df_data_ecg_test_ori = pd.read_csv(r'/media/s792288955/TOSHIBA EXT/Andrea/Kaggle/ECG-Dataset/mitbih_test.csv',\n",
    "                          sep=',', header=None)\n"
   ]
  },
  {
   "cell_type": "code",
   "execution_count": 10,
   "metadata": {},
   "outputs": [],
   "source": [
    "#EMG\n",
    "all_filenames = [i for i in root_data_emg_path.glob('*.{}'.format('csv'))]\n",
    "\n",
    "df_data_emg_0_ori = pd.read_csv(all_filenames[0], \n",
    "                                sep=\",\", header=None)\n",
    "\n",
    "df_data_emg_1_ori = pd.read_csv(all_filenames[1], \n",
    "                                sep=\",\", header=None)\n",
    "\n",
    "df_data_emg_2_ori = pd.read_csv(all_filenames[2], \n",
    "                                 sep=\",\", header=None)\n",
    "\n",
    "df_data_emg_3_ori = pd.read_csv(all_filenames[3], \n",
    "                                   sep=\",\", header=None)\n",
    "\n",
    "df_data_emg_ori   = pd.concat([df_data_emg_0_ori,df_data_emg_1_ori,df_data_emg_2_ori,df_data_emg_3_ori], axis=0)\n"
   ]
  },
  {
   "cell_type": "markdown",
   "metadata": {},
   "source": [
    "# Preprocessing"
   ]
  },
  {
   "cell_type": "markdown",
   "metadata": {},
   "source": [
    "### EEG"
   ]
  },
  {
   "cell_type": "code",
   "execution_count": 11,
   "metadata": {},
   "outputs": [
    {
     "name": "stdout",
     "output_type": "stream",
     "text": [
      "(412400, 20)\n",
      "(412400,)\n"
     ]
    }
   ],
   "source": [
    "# Split into X and Y\n",
    "X_train_eeg_ori = df_data_eeg_ori[[\"A2\", \"F3\", \"F4\", \"F7\", \"F8\", \"FP1\", \"FP2\", \"FZ\", \n",
    "                                   \"T3\", \"T4\", \"T5\", \"T6\", \"C3\", \"C4\", \"CZ\", \"O1\", \n",
    "                                   \"O2\", \"P3\", \"P4\", \"PZ\"]].copy()\n",
    "\n",
    "y_train_eeg_ori = df_data_eeg_ori['id_diagnose'].copy()\n",
    "\n",
    "print(X_train_eeg_ori.shape)\n",
    "print(y_train_eeg_ori.shape)"
   ]
  },
  {
   "cell_type": "code",
   "execution_count": 12,
   "metadata": {},
   "outputs": [
    {
     "name": "stdout",
     "output_type": "stream",
     "text": [
      "(329920, 20)\n",
      "(329920,)\n",
      "(82480, 20)\n",
      "(82480,)\n"
     ]
    }
   ],
   "source": [
    "X_train_eeg, X_test_eeg, y_train_eeg, y_test_eeg = train_test_split(X_train_eeg_ori, \n",
    "                                                                    y_train_eeg_ori, \n",
    "                                                                    train_size=0.8, random_state=None)\n",
    "\n",
    "print(X_train_eeg.shape)\n",
    "print(y_train_eeg.shape)\n",
    "print(X_test_eeg.shape)\n",
    "print(y_test_eeg.shape)"
   ]
  },
  {
   "cell_type": "code",
   "execution_count": 13,
   "metadata": {},
   "outputs": [
    {
     "name": "stdout",
     "output_type": "stream",
     "text": [
      "Unique eeg train dependent values: [ 1  2  3 10]\n",
      "counts eeg train depentent values: [ 71478 213299  36483   8660]\n",
      "Unique EEG test dependent values: [ 1  2  3 10]\n",
      "counts EEG test depentent values: [17754 53437  9085  2204]\n",
      "X_train_eeg_np =  (329920, 1, 20)\n",
      "y_train_eeg_np =  (329920,)\n",
      "X_test_eeg_np =  (82480, 1, 20)\n",
      "y_test_eeg_np =  (82480,)\n"
     ]
    }
   ],
   "source": [
    "# Encode the unique values in the target\n",
    "unique_train_eeg, counts_train_eeg = np.unique(y_train_eeg, return_counts = True)\n",
    "print(f'Unique eeg train dependent values: {unique_train_eeg}')\n",
    "print(f'counts eeg train depentent values: {counts_train_eeg}')\n",
    "\n",
    "unique_test_eeg, counts_test_eeg = np.unique(y_test_eeg, return_counts = True)\n",
    "print(f'Unique EEG test dependent values: {unique_test_eeg}')\n",
    "print(f'counts EEG test depentent values: {counts_test_eeg}')\n",
    "\n",
    "# Dictionary to map the target indices to class names\n",
    "class_eeg_names = {1: 'Normal', 2: 'Abnormal', 3: 'Seizure', 10: 'Not Informed'}\n",
    "\n",
    "# The input dims are 20\n",
    "X_train_eeg_np = X_train_eeg.to_numpy()\n",
    "y_train_eeg_np = y_train_eeg.to_numpy()\n",
    "\n",
    "X_test_eeg_np = X_test_eeg.to_numpy()\n",
    "y_test_eeg_np = y_test_eeg.to_numpy()\n",
    "\n",
    "# Add a channel dimension to the input\n",
    "X_train_eeg_np = X_train_eeg_np.reshape(-1, 1, 20)\n",
    "y_train_eeg = y_train_eeg_np.reshape(-1, 1)\n",
    "\n",
    "X_test_eeg_np = X_test_eeg_np.reshape(-1, 1, 20)\n",
    "y_test_eeg = y_test_eeg_np.reshape(-1, 1)\n",
    "\n",
    "print(\"X_train_eeg_np = \", X_train_eeg_np.shape)\n",
    "print(\"y_train_eeg_np = \", y_train_eeg_np.shape)\n",
    "\n",
    "print(\"X_test_eeg_np = \", X_test_eeg_np.shape)\n",
    "print(\"y_test_eeg_np = \", y_test_eeg_np.shape)"
   ]
  },
  {
   "cell_type": "code",
   "execution_count": 14,
   "metadata": {},
   "outputs": [],
   "source": [
    "# Do not need to remove noise"
   ]
  },
  {
   "cell_type": "code",
   "execution_count": 15,
   "metadata": {},
   "outputs": [],
   "source": [
    "# Fourier Transforms (FFTs) to work in frequency domain.\n",
    "X_train_eeg_freq  = scipy.fft.fft2(X_train_eeg_np).view(np.float64)\n",
    "X_test_eeg_freq  = scipy.fft.fft2(X_test_eeg_np).view(np.float64)"
   ]
  },
  {
   "cell_type": "code",
   "execution_count": 16,
   "metadata": {},
   "outputs": [],
   "source": [
    "# Normalizing the amplitude values to the range of between zero and one.\n",
    "scaler_eeg = MinMaxScaler()\n",
    "\n",
    "X_train_eeg_freq = X_train_eeg_freq.reshape(X_train_eeg_freq.shape[0], -1)\n",
    "X_train_eeg_freq = scaler_eeg.fit_transform(X_train_eeg_freq)\n",
    "\n",
    "X_test_eeg_freq = X_test_eeg_freq.reshape(X_test_eeg_freq.shape[0], -1)\n",
    "X_test_eeg_freq = scaler_eeg.fit_transform(X_test_eeg_freq)\n",
    "\n",
    "# Reshape\n",
    "X_train_eeg_freq = X_train_eeg_freq.reshape(-1, 1, 40)\n",
    "X_test_eeg_freq = X_test_eeg_freq.reshape(-1, 1, 40)"
   ]
  },
  {
   "cell_type": "code",
   "execution_count": 17,
   "metadata": {},
   "outputs": [
    {
     "name": "stdout",
     "output_type": "stream",
     "text": [
      "(329920, 1, 40)\n",
      "(329920,)\n",
      "(82480, 1, 40)\n",
      "(82480,)\n"
     ]
    }
   ],
   "source": [
    "print(X_train_eeg_freq.shape)\n",
    "print(y_train_eeg_np.shape)\n",
    "\n",
    "print(X_test_eeg_freq.shape)\n",
    "print(y_test_eeg_np.shape)"
   ]
  },
  {
   "cell_type": "markdown",
   "metadata": {},
   "source": [
    "### ECG"
   ]
  },
  {
   "cell_type": "code",
   "execution_count": 18,
   "metadata": {
    "scrolled": true
   },
   "outputs": [
    {
     "name": "stdout",
     "output_type": "stream",
     "text": [
      "X_train_ecg = (102106, 20)\n",
      "y_train_ecg =  (102106,)\n",
      "X_test_ecg = (21892, 20)\n",
      "y_test_ecg =  (21892,)\n"
     ]
    }
   ],
   "source": [
    "# split into input and outputs\n",
    "X_train_ecg_ori = df_data_ecg_train_ori.iloc[:, 160:180].copy()\n",
    "y_train_ecg = df_data_ecg_train_ori.iloc[:, -1].copy()\n",
    "\n",
    "X_test_ecg_ori = df_data_ecg_test_ori.iloc[:,  160:180].copy()\n",
    "y_test_ecg = df_data_ecg_test_ori.iloc[:, -1].copy()\n",
    "\n",
    "# ensure all data is float\n",
    "X_train_ecg_ori = X_train_ecg_ori.astype('float64')\n",
    "print(\"X_train_ecg =\", X_train_ecg_ori.shape)\n",
    "\n",
    "y_train_ecg = y_train_ecg.astype('int64')\n",
    "print(\"y_train_ecg = \",y_train_ecg.shape)\n",
    "\n",
    "# ensure all data is int\n",
    "X_test_ecg_ori = X_test_ecg_ori.astype('float64')\n",
    "print(\"X_test_ecg =\", X_test_ecg_ori.shape)\n",
    "\n",
    "y_test_ecg = y_test_ecg.astype('int64')\n",
    "print(\"y_test_ecg = \",y_test_ecg.shape)\n"
   ]
  },
  {
   "cell_type": "code",
   "execution_count": 19,
   "metadata": {},
   "outputs": [
    {
     "name": "stdout",
     "output_type": "stream",
     "text": [
      "Unique ECG train dependent values: [0 1 2 3 4]\n",
      "counts ECG train depentent values: [76517 12729  5788   641  6431]\n",
      "Unique ECG test dependent values: [0 1 2 3 4]\n",
      "counts ECG test depentent values: [18118   556  1448   162  1608]\n",
      "X_train_ecg_np =  (102106, 1, 20)\n",
      "y_train_ecg_np =  (102106, 1)\n",
      "X_test_ecg_np =  (21892, 1, 20)\n",
      "y_test_ecg_np =  (21892, 1)\n"
     ]
    }
   ],
   "source": [
    "# Encode the unique values in the target\n",
    "unique_train_ecg, counts_train_ecg = np.unique(y_train_ecg, return_counts = True)\n",
    "print(f'Unique ECG train dependent values: {unique_train_ecg}')\n",
    "print(f'counts ECG train depentent values: {counts_train_ecg}')\n",
    "\n",
    "unique_test_ecg, counts_test_ecg = np.unique(y_test_ecg, return_counts = True)\n",
    "print(f'Unique ECG test dependent values: {unique_test_ecg}')\n",
    "print(f'counts ECG test depentent values: {counts_test_ecg}')\n",
    "\n",
    "# Dictionary to map the target indices to class names\n",
    "# 0: 'Normal', 1: 'Atrial Premature', 2: 'Ventricular Premature',3: 'Fusion Ventricular', 4: 'Unclissifiable'\n",
    "class_ecg_names = {0: 'N', 1: 'S', 2: 'V', 3: 'F', 4: 'Q'}\n",
    "\n",
    "#\n",
    "X_train_ecg_np = X_train_ecg_ori.to_numpy()\n",
    "y_train_ecg_np = y_train_ecg.to_numpy()\n",
    "\n",
    "X_test_ecg_np = X_test_ecg_ori.to_numpy()\n",
    "y_test_ecg_np = y_test_ecg.to_numpy()\n",
    "\n",
    "\n",
    "X_train_ecg_np = X_train_ecg_np.reshape(-1, 1, 20)\n",
    "y_train_ecg = y_train_ecg_np.reshape(-1, 1)\n",
    "\n",
    "X_test_ecg_np = X_test_ecg_np.reshape(-1, 1, 20)\n",
    "y_test_ecg = y_test_ecg_np.reshape(-1, 1)\n",
    "\n",
    "\n",
    "print(\"X_train_ecg_np = \", X_train_ecg_np.shape)\n",
    "print(\"y_train_ecg_np = \", y_train_ecg.shape)\n",
    "\n",
    "print(\"X_test_ecg_np = \", X_test_ecg_np.shape)\n",
    "print(\"y_test_ecg_np = \", y_test_ecg.shape)"
   ]
  },
  {
   "cell_type": "code",
   "execution_count": 20,
   "metadata": {},
   "outputs": [],
   "source": [
    "# remove low and high noise frequecy\n",
    "ecg_b, ecg_a = signal.butter(4, [ecg_lowcut / (ecg_fs/2), ecg_highcut / (ecg_fs/2)], 'band')\n",
    "X_train_ecg_filtered = signal.filtfilt(ecg_b, ecg_a, X_train_ecg_np, padlen=X_train_ecg_np.shape[2]-1)\n",
    "X_test_ecg_filtered = signal.filtfilt(ecg_b, ecg_a, X_test_ecg_np, padlen=X_test_ecg_np.shape[2]-1)\n",
    "\n",
    "# Apply moving average to remove high noise\n",
    "X_train_ecg_filtered = signal.savgol_filter(X_train_ecg_filtered, ecg_window_length, ecg_polyorder)\n",
    "X_test_ecg_filtered = signal.savgol_filter(X_test_ecg_filtered, ecg_window_length, ecg_polyorder)"
   ]
  },
  {
   "cell_type": "code",
   "execution_count": 21,
   "metadata": {},
   "outputs": [],
   "source": [
    "# Fourier Transforms (FFTs) to work in frequency domain.\n",
    "X_train_ecg_freq  = scipy.fft.fft2(X_train_ecg_filtered).view(np.float64)\n",
    "X_test_ecg_freq  = scipy.fft.fft2(X_test_ecg_filtered).view(np.float64)"
   ]
  },
  {
   "cell_type": "code",
   "execution_count": 22,
   "metadata": {},
   "outputs": [],
   "source": [
    "# Normalizing the amplitude values to the range of between zero and one.\n",
    "scaler_ecg = MinMaxScaler()\n",
    "\n",
    "X_train_ecg_freq = X_train_ecg_freq.reshape(X_train_ecg_freq.shape[0], -1)\n",
    "X_train_ecg_freq = scaler_ecg.fit_transform(X_train_ecg_freq)\n",
    "\n",
    "X_test_ecg_freq = X_test_ecg_freq.reshape(X_test_ecg_freq.shape[0], -1)\n",
    "X_test_ecg_freq = scaler_ecg.fit_transform(X_test_ecg_freq)\n",
    "\n",
    "# Reshape\n",
    "X_train_ecg_freq = X_train_ecg_freq.reshape(-1, 1, 40)\n",
    "X_test_ecg_freq = X_test_ecg_freq.reshape(-1, 1, 40)"
   ]
  },
  {
   "cell_type": "code",
   "execution_count": 23,
   "metadata": {},
   "outputs": [
    {
     "name": "stdout",
     "output_type": "stream",
     "text": [
      "(102106, 1, 40)\n",
      "(21892, 1, 40)\n"
     ]
    }
   ],
   "source": [
    "print(X_train_ecg_freq.shape)\n",
    "print(X_test_ecg_freq.shape)"
   ]
  },
  {
   "cell_type": "markdown",
   "metadata": {},
   "source": [
    "### EMG"
   ]
  },
  {
   "cell_type": "code",
   "execution_count": 24,
   "metadata": {},
   "outputs": [
    {
     "name": "stdout",
     "output_type": "stream",
     "text": [
      "(11678, 20)\n",
      "(11678,)\n"
     ]
    }
   ],
   "source": [
    "# Split into X and Y\n",
    "X_emg_ori = df_data_emg_ori.iloc[:, 20:40].copy()\n",
    "y_emg_ori = df_data_emg_ori.iloc[:,-1].copy()\n",
    "\n",
    "# emg_1 = df_data_emg_ori[:,   :20].copy()\n",
    "# emg_2 = df_data_emg_ori[:,  20:40].copy()\n",
    "# emg_3 = df_data_emg_ori[:,  40:60].copy()\n",
    "\n",
    "\n",
    "\n",
    "print(X_emg_ori.shape)\n",
    "print(y_emg_ori.shape)"
   ]
  },
  {
   "cell_type": "code",
   "execution_count": 25,
   "metadata": {},
   "outputs": [
    {
     "name": "stdout",
     "output_type": "stream",
     "text": [
      "(9342, 20)\n",
      "(9342,)\n",
      "(2336, 20)\n",
      "(2336,)\n"
     ]
    }
   ],
   "source": [
    "# Now, train test split\n",
    "X_train_emg, X_test_emg, y_train_emg, y_test_emg = train_test_split(X_emg_ori, y_emg_ori, train_size=0.8)\n",
    "\n",
    "print(X_train_emg.shape)\n",
    "print(y_train_emg.shape)\n",
    "print(X_test_emg.shape)\n",
    "print(y_test_emg.shape)"
   ]
  },
  {
   "cell_type": "code",
   "execution_count": 26,
   "metadata": {
    "scrolled": true
   },
   "outputs": [
    {
     "name": "stdout",
     "output_type": "stream",
     "text": [
      "Unique EMG train dependent values: [0 1 2 3]\n",
      "counts EMG train depentent values: [2364 2332 2318 2328]\n",
      "Unique EMG test dependent values: [0 1 2 3]\n",
      "counts EMG test depentent values: [546 571 625 594]\n",
      "X_train_emg_np =  (9342, 1, 20)\n",
      "y_train_emg_np =  (9342,)\n",
      "X_test_emg_np =  (2336, 1, 20)\n",
      "y_test_emg_np =  (2336,)\n"
     ]
    }
   ],
   "source": [
    "# Encode the unique values in the target\n",
    "unique_train_emg, counts_train_emg = np.unique(y_train_emg, return_counts = True)\n",
    "print(f'Unique EMG train dependent values: {unique_train_emg}')\n",
    "print(f'counts EMG train depentent values: {counts_train_emg}')\n",
    "\n",
    "unique_test_emg, counts_test_emg = np.unique(y_test_emg, return_counts = True)\n",
    "print(f'Unique EMG test dependent values: {unique_test_emg}')\n",
    "print(f'counts EMG test depentent values: {counts_test_emg}')\n",
    "\n",
    "# Dictionary to map the target indices to class names\n",
    "class_emg_names = {0: 'Rock', 1: 'Scissors', 2: 'Paper', 3: 'Ok'}\n",
    "\n",
    "# Transform data in numpu number\n",
    "X_train_emg_np = X_train_emg.to_numpy()\n",
    "y_train_emg_np = y_train_emg.to_numpy()\n",
    "\n",
    "X_test_emg_np = X_test_emg.to_numpy()\n",
    "y_test_emg_np = y_test_emg.to_numpy()\n",
    "\n",
    "# Add a channel dimension to the input\n",
    "X_train_emg_np = X_train_emg_np.reshape(-1, 1, 20)\n",
    "y_train_emg = y_train_emg_np.reshape(-1, 1)\n",
    "\n",
    "X_test_emg_np = X_test_emg_np.reshape(-1, 1, 20)\n",
    "y_test_emg = y_test_emg_np.reshape(-1, 1)\n",
    "\n",
    "print(\"X_train_emg_np = \", X_train_emg_np.shape)\n",
    "print(\"y_train_emg_np = \", y_train_emg_np.shape)\n",
    "\n",
    "print(\"X_test_emg_np = \", X_test_emg_np.shape)\n",
    "print(\"y_test_emg_np = \", y_test_emg_np.shape)\n",
    "\n"
   ]
  },
  {
   "cell_type": "code",
   "execution_count": 27,
   "metadata": {},
   "outputs": [],
   "source": [
    "# signal.butter - Design an Nth-order digital or analog Butterworth filter and return the filter coefficients.\n",
    "emg_b, emg_a = signal.butter(4, [emg_lowcut / (emg_fs/2), emg_highcut / (emg_fs/2)], 'band')\n",
    "X_train_emg_filtered = signal.filtfilt(emg_b, emg_a, X_train_emg_np, padlen=X_train_emg_np.shape[2]-1)\n",
    "X_test_emg_filtered = signal.filtfilt(emg_b, emg_a, X_test_emg_np, padlen=X_test_emg_np.shape[2]-1)\n",
    "\n",
    "# Apply moving average to remove high noise\n",
    "X_train_emg_filtered = signal.savgol_filter(X_train_emg_filtered, emg_window_length, emg_polyorder)\n",
    "X_test_emg_filtered = signal.savgol_filter(X_test_emg_filtered, emg_window_length, emg_polyorder)"
   ]
  },
  {
   "cell_type": "code",
   "execution_count": 28,
   "metadata": {},
   "outputs": [
    {
     "name": "stdout",
     "output_type": "stream",
     "text": [
      "(9342, 1, 20)\n",
      "(2336, 1, 20)\n"
     ]
    }
   ],
   "source": [
    "print(X_train_emg_filtered.shape)\n",
    "print(X_test_emg_filtered.shape)\n"
   ]
  },
  {
   "cell_type": "code",
   "execution_count": 29,
   "metadata": {},
   "outputs": [],
   "source": [
    "# Fourier Transforms (FFTs) to work in frequency domain.\n",
    "X_train_emg_freq  = scipy.fft.fft2(X_train_emg_filtered).view(np.float64)\n",
    "X_test_emg_freq  = scipy.fft.fft2(X_test_emg_filtered).view(np.float64)\n"
   ]
  },
  {
   "cell_type": "code",
   "execution_count": 30,
   "metadata": {},
   "outputs": [
    {
     "name": "stdout",
     "output_type": "stream",
     "text": [
      "(9342, 1, 40)\n",
      "(9342, 1)\n",
      "(2336, 1, 40)\n",
      "(2336, 1)\n"
     ]
    }
   ],
   "source": [
    "print(X_train_emg_freq.shape)\n",
    "print(y_train_emg.shape)\n",
    "\n",
    "print(X_test_emg_freq.shape)\n",
    "print(y_test_emg.shape)"
   ]
  },
  {
   "cell_type": "code",
   "execution_count": 31,
   "metadata": {},
   "outputs": [],
   "source": [
    "# Normalizing the amplitude values to the range of between zero and one.\n",
    "scaler_emg = MinMaxScaler()\n",
    "\n",
    "X_train_emg_freq = X_train_emg_freq.reshape(X_train_emg_freq.shape[0], -1)\n",
    "X_train_emg_freq = scaler_emg.fit_transform(X_train_emg_freq)\n",
    "\n",
    "X_test_emg_freq = X_test_emg_freq.reshape(X_test_emg_freq.shape[0], -1)\n",
    "X_test_emg_freq = scaler_emg.fit_transform(X_test_emg_freq)\n",
    "\n",
    "\n",
    "# Add a channel dimension to the input\n",
    "X_train_emg_freq = X_train_emg_freq.reshape(-1, 1, 40)\n",
    "X_test_emg_freq = X_test_emg_freq.reshape(-1, 1, 40)"
   ]
  },
  {
   "cell_type": "code",
   "execution_count": 32,
   "metadata": {},
   "outputs": [
    {
     "name": "stdout",
     "output_type": "stream",
     "text": [
      "(9342, 1, 40)\n",
      "(9342, 1)\n",
      "(2336, 1, 40)\n",
      "(2336, 1)\n"
     ]
    }
   ],
   "source": [
    "print(X_train_emg_freq.shape)\n",
    "print(y_train_emg.shape)\n",
    "\n",
    "print(X_test_emg_freq.shape)\n",
    "print(y_test_emg.shape)"
   ]
  },
  {
   "cell_type": "markdown",
   "metadata": {},
   "source": [
    "# Baseline LSTM Process\n",
    "\n",
    "## Steps\n",
    "\n",
    "### 1 - Train and test ECG model\n",
    "### 2 - Train and test EMG model\n",
    "### 3 - Train and test EEG model\n",
    "\n",
    "20 - 50 - 100 - 150 - 200 - 300 - 400"
   ]
  },
  {
   "cell_type": "code",
   "execution_count": 12,
   "metadata": {},
   "outputs": [],
   "source": [
    "epochs = 50"
   ]
  },
  {
   "cell_type": "markdown",
   "metadata": {},
   "source": [
    "### 1 - ECG train and test model"
   ]
  },
  {
   "cell_type": "code",
   "execution_count": 13,
   "metadata": {},
   "outputs": [],
   "source": [
    "# Model from https://github.com/federicohyo/lstm-ecg\n",
    "model_ecg_lstm = Sequential()\n",
    "\n",
    "model_ecg_lstm.add(Bidirectional(LSTM(X_train_ecg_freq.shape[2], return_sequences=True,\n",
    "                                      input_shape=(X_train_ecg_freq.shape[1], X_train_ecg_freq.shape[2]))))\n",
    "\n",
    "model_ecg_lstm.add(LSTM(256, return_sequences=True))\n",
    "model_ecg_lstm.add(Dropout(0.2))\n",
    "\n",
    "model_ecg_lstm.add(LSTM(128, return_sequences=True))\n",
    "model_ecg_lstm.add(Dropout(0.2))\n",
    "\n",
    "model_ecg_lstm.add(LSTM(64, return_sequences=True))\n",
    "model_ecg_lstm.add(Dropout(0.2))\n",
    "\n",
    "model_ecg_lstm.add(LSTM(32, return_sequences=True))\n",
    "model_ecg_lstm.add(Dropout(0.2))\n",
    "\n",
    "model_ecg_lstm.add(LSTM(16, return_sequences=True))\n",
    "\n",
    "model_ecg_lstm.add(Dense(1, activation='sigmoid'))\n"
   ]
  },
  {
   "cell_type": "code",
   "execution_count": 14,
   "metadata": {},
   "outputs": [],
   "source": [
    "model_ecg_lstm.build(X_train_ecg_freq.shape)"
   ]
  },
  {
   "cell_type": "code",
   "execution_count": 15,
   "metadata": {},
   "outputs": [
    {
     "name": "stdout",
     "output_type": "stream",
     "text": [
      "Model: \"sequential\"\n",
      "_________________________________________________________________\n",
      " Layer (type)                Output Shape              Param #   \n",
      "=================================================================\n",
      " bidirectional (Bidirection  (102106, 1, 80)           25920     \n",
      " al)                                                             \n",
      "                                                                 \n",
      " lstm_1 (LSTM)               (102106, 1, 256)          345088    \n",
      "                                                                 \n",
      " dropout (Dropout)           (102106, 1, 256)          0         \n",
      "                                                                 \n",
      " lstm_2 (LSTM)               (102106, 1, 128)          197120    \n",
      "                                                                 \n",
      " dropout_1 (Dropout)         (102106, 1, 128)          0         \n",
      "                                                                 \n",
      " lstm_3 (LSTM)               (102106, 1, 64)           49408     \n",
      "                                                                 \n",
      " dropout_2 (Dropout)         (102106, 1, 64)           0         \n",
      "                                                                 \n",
      " lstm_4 (LSTM)               (102106, 1, 32)           12416     \n",
      "                                                                 \n",
      " dropout_3 (Dropout)         (102106, 1, 32)           0         \n",
      "                                                                 \n",
      " lstm_5 (LSTM)               (102106, 1, 16)           3136      \n",
      "                                                                 \n",
      " dense (Dense)               (102106, 1, 1)            17        \n",
      "                                                                 \n",
      "=================================================================\n",
      "Total params: 633105 (2.42 MB)\n",
      "Trainable params: 633105 (2.42 MB)\n",
      "Non-trainable params: 0 (0.00 Byte)\n",
      "_________________________________________________________________\n"
     ]
    }
   ],
   "source": [
    "model_ecg_lstm.summary()"
   ]
  },
  {
   "cell_type": "code",
   "execution_count": 16,
   "metadata": {},
   "outputs": [
    {
     "data": {
      "image/png": "[encoded data removed]",
      "text/plain": [
       "<IPython.core.display.Image object>"
      ]
     },
     "execution_count": 16,
     "metadata": {},
     "output_type": "execute_result"
    }
   ],
   "source": [
    "#Save the Summary's plan\n",
    "\n",
    "path_model_ecg_lstm_summary = \"./images/Santos2022_Baseline_ECG_G9_Summary_FINAL.png\"\n",
    "\n",
    "plot_model(model_ecg_lstm, to_file=path_model_ecg_lstm_summary)\n"
   ]
  },
  {
   "cell_type": "code",
   "execution_count": 17,
   "metadata": {},
   "outputs": [],
   "source": [
    "#Callbacks instructions\n",
    "\n",
    "#Peform visualization\n",
    "    #1 - Open cmd, go to the folder where this file is;\n",
    "    #2 - set the command: tensorboard --logdir logs/fit\n",
    "    #3 - Copy the link (http://localhost:6006/) in browser  \n",
    "\n",
    "log_dir = os.path.join(\"logs\", \"fit\", datetime.datetime.now().strftime(\"%Y%m%d-%H%M%S\"))\n",
    "model_ecg_lstm_tensorboard_callback = tf.keras.callbacks.TensorBoard(log_dir=log_dir, histogram_freq=1)\n",
    "\n",
    "#Save the best performance\n",
    "checkpoint_filepath = \"./checkpoint_bline_ecg\"\n",
    "\n",
    "model_ecg_lstm_checkpoint_callback = tf.keras.callbacks.ModelCheckpoint( filepath = checkpoint_filepath,\n",
    "                                                                     save_weights_only = False, #Save the model and weights\n",
    "                                                                     monitor = \"val_accuracy\",\n",
    "                                                                     mode = \"max\",\n",
    "                                                                     save_best_only = True,\n",
    "                                                                     initial_value_theshold = True)\n",
    "\n",
    "#Early stop when a error occour\n",
    "model_ecg_lstm_earlystopping_callback = tf.keras.callbacks.EarlyStopping(monitor='val_loss',\n",
    "                                                                 patience=5,\n",
    "                                                                 restore_best_weights=True)"
   ]
  },
  {
   "cell_type": "code",
   "execution_count": 18,
   "metadata": {},
   "outputs": [],
   "source": [
    "# Model from https://github.com/federicohyo/lstm-ecg\n",
    "\n",
    "adam_ecg = keras.optimizers.legacy.Adam(learning_rate=learning_rate, \n",
    "                                     beta_1=0.9, \n",
    "                                     beta_2=0.999, \n",
    "                                     epsilon=1e-08, \n",
    "                                     decay=0.0)\n",
    "\n",
    "model_ecg_lstm.compile(optimizer=adam_ecg, \n",
    "                   loss=\"mean_squared_error\", \n",
    "                   metrics=[\"accuracy\", \n",
    "                            tf.keras.metrics.MeanSquaredError(), \n",
    "                            tf.keras.metrics.RootMeanSquaredError(),\n",
    "                            tf.keras.metrics.Precision(),\n",
    "                            tf.keras.metrics.Recall(),\n",
    "                            tf.keras.metrics.PrecisionAtRecall(0.5)]\n",
    "                       )"
   ]
  },
  {
   "cell_type": "code",
   "execution_count": 19,
   "metadata": {},
   "outputs": [
    {
     "name": "stdout",
     "output_type": "stream",
     "text": [
      "Epoch 1/50\n",
      "8/8 [==============================] - ETA: 0s - loss: 0.5210 - accuracy: 0.7876 - mean_squared_error: 0.5210 - root_mean_squared_error: 0.7218 - precision: 0.0000e+00 - recall: 0.0000e+00 - precision_at_recall: 0.1128  INFO:tensorflow:Assets written to: ./checkpoint_bline_ecg/assets\n"
     ]
    },
    {
     "name": "stderr",
     "output_type": "stream",
     "text": [
      "INFO:tensorflow:Assets written to: ./checkpoint_bline_ecg/assets\n"
     ]
    },
    {
     "name": "stdout",
     "output_type": "stream",
     "text": [
      "8/8 [==============================] - 21s 2s/step - loss: 0.5210 - accuracy: 0.7876 - mean_squared_error: 0.5210 - root_mean_squared_error: 0.7218 - precision: 0.0000e+00 - recall: 0.0000e+00 - precision_at_recall: 0.1128 - val_loss: 3.7121 - val_accuracy: 0.1981 - val_mean_squared_error: 3.7121 - val_root_mean_squared_error: 1.9267 - val_precision: 0.0000e+00 - val_recall: 0.0000e+00 - val_precision_at_recall: 0.8019\n",
      "Epoch 2/50\n",
      "8/8 [==============================] - 2s 267ms/step - loss: 0.5183 - accuracy: 0.8872 - mean_squared_error: 0.5183 - root_mean_squared_error: 0.7199 - precision: 0.0000e+00 - recall: 0.0000e+00 - precision_at_recall: 0.1128 - val_loss: 3.7158 - val_accuracy: 0.1981 - val_mean_squared_error: 3.7158 - val_root_mean_squared_error: 1.9276 - val_precision: 0.0000e+00 - val_recall: 0.0000e+00 - val_precision_at_recall: 0.8019\n",
      "Epoch 3/50\n",
      "8/8 [==============================] - 2s 292ms/step - loss: 0.5174 - accuracy: 0.8872 - mean_squared_error: 0.5174 - root_mean_squared_error: 0.7193 - precision: 0.0000e+00 - recall: 0.0000e+00 - precision_at_recall: 0.1128 - val_loss: 3.7190 - val_accuracy: 0.1981 - val_mean_squared_error: 3.7190 - val_root_mean_squared_error: 1.9285 - val_precision: 0.0000e+00 - val_recall: 0.0000e+00 - val_precision_at_recall: 0.8019\n",
      "Epoch 4/50\n",
      "8/8 [==============================] - 2s 275ms/step - loss: 0.5167 - accuracy: 0.8872 - mean_squared_error: 0.5167 - root_mean_squared_error: 0.7188 - precision: 0.0000e+00 - recall: 0.0000e+00 - precision_at_recall: 0.1128 - val_loss: 3.7223 - val_accuracy: 0.1981 - val_mean_squared_error: 3.7223 - val_root_mean_squared_error: 1.9293 - val_precision: 0.0000e+00 - val_recall: 0.0000e+00 - val_precision_at_recall: 0.8019\n",
      "Epoch 5/50\n",
      "8/8 [==============================] - 2s 272ms/step - loss: 0.5160 - accuracy: 0.8872 - mean_squared_error: 0.5160 - root_mean_squared_error: 0.7183 - precision: 0.0000e+00 - recall: 0.0000e+00 - precision_at_recall: 0.1128 - val_loss: 3.7258 - val_accuracy: 0.1981 - val_mean_squared_error: 3.7258 - val_root_mean_squared_error: 1.9302 - val_precision: 0.0000e+00 - val_recall: 0.0000e+00 - val_precision_at_recall: 0.8019\n",
      "Epoch 6/50\n",
      "8/8 [==============================] - 2s 293ms/step - loss: 0.5152 - accuracy: 0.8872 - mean_squared_error: 0.5152 - root_mean_squared_error: 0.7178 - precision: 0.0000e+00 - recall: 0.0000e+00 - precision_at_recall: 0.1128 - val_loss: 3.7297 - val_accuracy: 0.1981 - val_mean_squared_error: 3.7297 - val_root_mean_squared_error: 1.9312 - val_precision: 0.0000e+00 - val_recall: 0.0000e+00 - val_precision_at_recall: 0.8019\n",
      "Epoch 7/50\n",
      "8/8 [==============================] - 3s 333ms/step - loss: 0.5144 - accuracy: 0.8872 - mean_squared_error: 0.5144 - root_mean_squared_error: 0.7172 - precision: 0.0000e+00 - recall: 0.0000e+00 - precision_at_recall: 0.1128 - val_loss: 3.7342 - val_accuracy: 0.1981 - val_mean_squared_error: 3.7342 - val_root_mean_squared_error: 1.9324 - val_precision: 0.0000e+00 - val_recall: 0.0000e+00 - val_precision_at_recall: 0.8019\n",
      "Epoch 8/50\n",
      "8/8 [==============================] - 3s 347ms/step - loss: 0.5134 - accuracy: 0.8872 - mean_squared_error: 0.5134 - root_mean_squared_error: 0.7165 - precision: 0.0000e+00 - recall: 0.0000e+00 - precision_at_recall: 0.1128 - val_loss: 3.7395 - val_accuracy: 0.1981 - val_mean_squared_error: 3.7395 - val_root_mean_squared_error: 1.9338 - val_precision: 0.0000e+00 - val_recall: 0.0000e+00 - val_precision_at_recall: 0.8021\n",
      "Epoch 9/50\n",
      "8/8 [==============================] - 3s 333ms/step - loss: 0.5124 - accuracy: 0.8872 - mean_squared_error: 0.5124 - root_mean_squared_error: 0.7158 - precision: 0.0000e+00 - recall: 0.0000e+00 - precision_at_recall: 0.1128 - val_loss: 3.7457 - val_accuracy: 0.1981 - val_mean_squared_error: 3.7457 - val_root_mean_squared_error: 1.9354 - val_precision: 0.0000e+00 - val_recall: 0.0000e+00 - val_precision_at_recall: 0.8019\n",
      "Epoch 10/50\n",
      "8/8 [==============================] - 3s 356ms/step - loss: 0.5111 - accuracy: 0.8872 - mean_squared_error: 0.5111 - root_mean_squared_error: 0.7149 - precision: 0.0000e+00 - recall: 0.0000e+00 - precision_at_recall: 0.1128 - val_loss: 3.7530 - val_accuracy: 0.1981 - val_mean_squared_error: 3.7530 - val_root_mean_squared_error: 1.9373 - val_precision: 0.0000e+00 - val_recall: 0.0000e+00 - val_precision_at_recall: 0.8019\n",
      "Epoch 11/50\n",
      "8/8 [==============================] - 3s 339ms/step - loss: 0.5097 - accuracy: 0.8872 - mean_squared_error: 0.5097 - root_mean_squared_error: 0.7139 - precision: 0.0000e+00 - recall: 0.0000e+00 - precision_at_recall: 0.1128 - val_loss: 3.7616 - val_accuracy: 0.1981 - val_mean_squared_error: 3.7616 - val_root_mean_squared_error: 1.9395 - val_precision: 0.0000e+00 - val_recall: 0.0000e+00 - val_precision_at_recall: 0.8021\n",
      "Epoch 12/50\n",
      "8/8 [==============================] - 3s 334ms/step - loss: 0.5081 - accuracy: 0.8872 - mean_squared_error: 0.5081 - root_mean_squared_error: 0.7128 - precision: 0.0000e+00 - recall: 0.0000e+00 - precision_at_recall: 0.1128 - val_loss: 3.7716 - val_accuracy: 0.1981 - val_mean_squared_error: 3.7716 - val_root_mean_squared_error: 1.9421 - val_precision: 0.0000e+00 - val_recall: 0.0000e+00 - val_precision_at_recall: 0.8020\n",
      "Epoch 13/50\n",
      "8/8 [==============================] - 3s 333ms/step - loss: 0.5062 - accuracy: 0.8872 - mean_squared_error: 0.5062 - root_mean_squared_error: 0.7115 - precision: 0.0000e+00 - recall: 0.0000e+00 - precision_at_recall: 0.1128 - val_loss: 3.7832 - val_accuracy: 0.1981 - val_mean_squared_error: 3.7832 - val_root_mean_squared_error: 1.9450 - val_precision: 0.0000e+00 - val_recall: 0.0000e+00 - val_precision_at_recall: 0.8020\n",
      "Epoch 14/50\n",
      "8/8 [==============================] - 3s 333ms/step - loss: 0.5041 - accuracy: 0.8872 - mean_squared_error: 0.5041 - root_mean_squared_error: 0.7100 - precision: 0.0000e+00 - recall: 0.0000e+00 - precision_at_recall: 0.1128 - val_loss: 3.7964 - val_accuracy: 0.1981 - val_mean_squared_error: 3.7964 - val_root_mean_squared_error: 1.9484 - val_precision: 0.0000e+00 - val_recall: 0.0000e+00 - val_precision_at_recall: 0.8024\n",
      "Epoch 15/50\n",
      "8/8 [==============================] - 3s 340ms/step - loss: 0.5018 - accuracy: 0.8872 - mean_squared_error: 0.5018 - root_mean_squared_error: 0.7084 - precision: 0.0000e+00 - recall: 0.0000e+00 - precision_at_recall: 0.1128 - val_loss: 3.8111 - val_accuracy: 0.1981 - val_mean_squared_error: 3.8111 - val_root_mean_squared_error: 1.9522 - val_precision: 0.0000e+00 - val_recall: 0.0000e+00 - val_precision_at_recall: 0.8034\n",
      "Epoch 16/50\n",
      "8/8 [==============================] - 3s 350ms/step - loss: 0.4992 - accuracy: 0.8872 - mean_squared_error: 0.4992 - root_mean_squared_error: 0.7066 - precision: 0.0000e+00 - recall: 0.0000e+00 - precision_at_recall: 0.1128 - val_loss: 3.8265 - val_accuracy: 0.1981 - val_mean_squared_error: 3.8265 - val_root_mean_squared_error: 1.9562 - val_precision: 0.0000e+00 - val_recall: 0.0000e+00 - val_precision_at_recall: 0.8020\n",
      "Epoch 17/50\n",
      "8/8 [==============================] - 3s 337ms/step - loss: 0.4965 - accuracy: 0.8872 - mean_squared_error: 0.4965 - root_mean_squared_error: 0.7046 - precision: 0.0000e+00 - recall: 0.0000e+00 - precision_at_recall: 0.1128 - val_loss: 3.8429 - val_accuracy: 0.1981 - val_mean_squared_error: 3.8429 - val_root_mean_squared_error: 1.9603 - val_precision: 0.0000e+00 - val_recall: 0.0000e+00 - val_precision_at_recall: 0.8024\n",
      "Epoch 18/50\n",
      "8/8 [==============================] - 3s 335ms/step - loss: 0.4938 - accuracy: 0.8872 - mean_squared_error: 0.4938 - root_mean_squared_error: 0.7027 - precision: 0.0000e+00 - recall: 0.0000e+00 - precision_at_recall: 0.1128 - val_loss: 3.8598 - val_accuracy: 0.1981 - val_mean_squared_error: 3.8598 - val_root_mean_squared_error: 1.9646 - val_precision: 0.0000e+00 - val_recall: 0.0000e+00 - val_precision_at_recall: 0.8038\n",
      "Epoch 19/50\n",
      "8/8 [==============================] - 3s 334ms/step - loss: 0.4910 - accuracy: 0.8872 - mean_squared_error: 0.4910 - root_mean_squared_error: 0.7007 - precision: 0.0000e+00 - recall: 0.0000e+00 - precision_at_recall: 0.1128 - val_loss: 3.8764 - val_accuracy: 0.1981 - val_mean_squared_error: 3.8764 - val_root_mean_squared_error: 1.9689 - val_precision: 0.0000e+00 - val_recall: 0.0000e+00 - val_precision_at_recall: 0.8021\n"
     ]
    },
    {
     "name": "stdout",
     "output_type": "stream",
     "text": [
      "Epoch 20/50\n",
      "8/8 [==============================] - 3s 334ms/step - loss: 0.4883 - accuracy: 0.8872 - mean_squared_error: 0.4883 - root_mean_squared_error: 0.6988 - precision: 0.0000e+00 - recall: 0.0000e+00 - precision_at_recall: 0.1128 - val_loss: 3.8919 - val_accuracy: 0.1981 - val_mean_squared_error: 3.8919 - val_root_mean_squared_error: 1.9728 - val_precision: 0.0000e+00 - val_recall: 0.0000e+00 - val_precision_at_recall: 0.8025\n",
      "Epoch 21/50\n",
      "8/8 [==============================] - 3s 342ms/step - loss: 0.4858 - accuracy: 0.8872 - mean_squared_error: 0.4858 - root_mean_squared_error: 0.6970 - precision: 0.0000e+00 - recall: 0.0000e+00 - precision_at_recall: 0.1128 - val_loss: 3.9062 - val_accuracy: 0.1981 - val_mean_squared_error: 3.9062 - val_root_mean_squared_error: 1.9764 - val_precision: 0.0000e+00 - val_recall: 0.0000e+00 - val_precision_at_recall: 0.8026\n",
      "Epoch 22/50\n",
      "8/8 [==============================] - 3s 352ms/step - loss: 0.4836 - accuracy: 0.8872 - mean_squared_error: 0.4836 - root_mean_squared_error: 0.6954 - precision: 0.0000e+00 - recall: 0.0000e+00 - precision_at_recall: 0.1128 - val_loss: 3.9192 - val_accuracy: 0.1981 - val_mean_squared_error: 3.9192 - val_root_mean_squared_error: 1.9797 - val_precision: 0.0000e+00 - val_recall: 0.0000e+00 - val_precision_at_recall: 0.8027\n",
      "Epoch 23/50\n",
      "8/8 [==============================] - 3s 338ms/step - loss: 0.4816 - accuracy: 0.8872 - mean_squared_error: 0.4816 - root_mean_squared_error: 0.6940 - precision: 0.0000e+00 - recall: 0.0000e+00 - precision_at_recall: 0.1128 - val_loss: 3.9305 - val_accuracy: 0.1981 - val_mean_squared_error: 3.9305 - val_root_mean_squared_error: 1.9826 - val_precision: 0.0000e+00 - val_recall: 0.0000e+00 - val_precision_at_recall: 0.8026\n",
      "Epoch 24/50\n",
      "8/8 [==============================] - 3s 337ms/step - loss: 0.4799 - accuracy: 0.8872 - mean_squared_error: 0.4799 - root_mean_squared_error: 0.6927 - precision: 0.0000e+00 - recall: 0.0000e+00 - precision_at_recall: 0.1128 - val_loss: 3.9403 - val_accuracy: 0.1981 - val_mean_squared_error: 3.9403 - val_root_mean_squared_error: 1.9850 - val_precision: 0.0000e+00 - val_recall: 0.0000e+00 - val_precision_at_recall: 0.8024\n",
      "Epoch 25/50\n",
      "8/8 [==============================] - 3s 334ms/step - loss: 0.4784 - accuracy: 0.8872 - mean_squared_error: 0.4784 - root_mean_squared_error: 0.6917 - precision: 0.0000e+00 - recall: 0.0000e+00 - precision_at_recall: 0.1128 - val_loss: 3.9483 - val_accuracy: 0.1981 - val_mean_squared_error: 3.9483 - val_root_mean_squared_error: 1.9870 - val_precision: 0.0000e+00 - val_recall: 0.0000e+00 - val_precision_at_recall: 0.8046\n",
      "Epoch 26/50\n",
      "8/8 [==============================] - 3s 340ms/step - loss: 0.4771 - accuracy: 0.8872 - mean_squared_error: 0.4771 - root_mean_squared_error: 0.6907 - precision: 0.0000e+00 - recall: 0.0000e+00 - precision_at_recall: 0.1128 - val_loss: 3.9550 - val_accuracy: 0.1981 - val_mean_squared_error: 3.9550 - val_root_mean_squared_error: 1.9887 - val_precision: 0.0000e+00 - val_recall: 0.0000e+00 - val_precision_at_recall: 0.8025\n",
      "Epoch 27/50\n",
      "8/8 [==============================] - 3s 368ms/step - loss: 0.4761 - accuracy: 0.8872 - mean_squared_error: 0.4761 - root_mean_squared_error: 0.6900 - precision: 0.0000e+00 - recall: 0.0000e+00 - precision_at_recall: 0.1128 - val_loss: 3.9608 - val_accuracy: 0.1981 - val_mean_squared_error: 3.9608 - val_root_mean_squared_error: 1.9902 - val_precision: 0.0000e+00 - val_recall: 0.0000e+00 - val_precision_at_recall: 0.8044\n",
      "Epoch 28/50\n",
      "8/8 [==============================] - 3s 357ms/step - loss: 0.4753 - accuracy: 0.8872 - mean_squared_error: 0.4753 - root_mean_squared_error: 0.6894 - precision: 0.0000e+00 - recall: 0.0000e+00 - precision_at_recall: 0.1128 - val_loss: 3.9656 - val_accuracy: 0.1981 - val_mean_squared_error: 3.9656 - val_root_mean_squared_error: 1.9914 - val_precision: 0.0000e+00 - val_recall: 0.0000e+00 - val_precision_at_recall: 0.8022\n",
      "Epoch 29/50\n",
      "8/8 [==============================] - 3s 333ms/step - loss: 0.4745 - accuracy: 0.8872 - mean_squared_error: 0.4745 - root_mean_squared_error: 0.6888 - precision: 0.0000e+00 - recall: 0.0000e+00 - precision_at_recall: 0.1128 - val_loss: 3.9696 - val_accuracy: 0.1981 - val_mean_squared_error: 3.9696 - val_root_mean_squared_error: 1.9924 - val_precision: 0.0000e+00 - val_recall: 0.0000e+00 - val_precision_at_recall: 0.8026\n",
      "Epoch 30/50\n",
      "8/8 [==============================] - 3s 337ms/step - loss: 0.4740 - accuracy: 0.8872 - mean_squared_error: 0.4740 - root_mean_squared_error: 0.6885 - precision: 0.0000e+00 - recall: 0.0000e+00 - precision_at_recall: 0.1128 - val_loss: 3.9731 - val_accuracy: 0.1981 - val_mean_squared_error: 3.9731 - val_root_mean_squared_error: 1.9933 - val_precision: 0.0000e+00 - val_recall: 0.0000e+00 - val_precision_at_recall: 0.8037\n",
      "Epoch 31/50\n",
      "8/8 [==============================] - 3s 335ms/step - loss: 0.4734 - accuracy: 0.8872 - mean_squared_error: 0.4734 - root_mean_squared_error: 0.6880 - precision: 0.0000e+00 - recall: 0.0000e+00 - precision_at_recall: 0.1128 - val_loss: 3.9760 - val_accuracy: 0.1981 - val_mean_squared_error: 3.9760 - val_root_mean_squared_error: 1.9940 - val_precision: 0.0000e+00 - val_recall: 0.0000e+00 - val_precision_at_recall: 0.8020\n",
      "Epoch 32/50\n",
      "8/8 [==============================] - 3s 333ms/step - loss: 0.4730 - accuracy: 0.8872 - mean_squared_error: 0.4730 - root_mean_squared_error: 0.6877 - precision: 0.0000e+00 - recall: 0.0000e+00 - precision_at_recall: 0.1128 - val_loss: 3.9787 - val_accuracy: 0.1981 - val_mean_squared_error: 3.9787 - val_root_mean_squared_error: 1.9947 - val_precision: 0.0000e+00 - val_recall: 0.0000e+00 - val_precision_at_recall: 0.8021\n",
      "Epoch 33/50\n",
      "8/8 [==============================] - 3s 342ms/step - loss: 0.4727 - accuracy: 0.8872 - mean_squared_error: 0.4727 - root_mean_squared_error: 0.6876 - precision: 0.0000e+00 - recall: 0.0000e+00 - precision_at_recall: 0.1128 - val_loss: 3.9809 - val_accuracy: 0.1981 - val_mean_squared_error: 3.9809 - val_root_mean_squared_error: 1.9952 - val_precision: 0.0000e+00 - val_recall: 0.0000e+00 - val_precision_at_recall: 0.8024\n",
      "Epoch 34/50\n",
      "8/8 [==============================] - 3s 344ms/step - loss: 0.4722 - accuracy: 0.8872 - mean_squared_error: 0.4722 - root_mean_squared_error: 0.6872 - precision: 0.0000e+00 - recall: 0.0000e+00 - precision_at_recall: 0.1128 - val_loss: 3.9826 - val_accuracy: 0.1981 - val_mean_squared_error: 3.9826 - val_root_mean_squared_error: 1.9957 - val_precision: 0.0000e+00 - val_recall: 0.0000e+00 - val_precision_at_recall: 0.8026\n",
      "Epoch 35/50\n",
      "8/8 [==============================] - 3s 335ms/step - loss: 0.4721 - accuracy: 0.8872 - mean_squared_error: 0.4721 - root_mean_squared_error: 0.6871 - precision: 0.0000e+00 - recall: 0.0000e+00 - precision_at_recall: 0.1128 - val_loss: 3.9842 - val_accuracy: 0.1981 - val_mean_squared_error: 3.9842 - val_root_mean_squared_error: 1.9960 - val_precision: 0.0000e+00 - val_recall: 0.0000e+00 - val_precision_at_recall: 0.8027\n",
      "Epoch 36/50\n",
      "8/8 [==============================] - 3s 343ms/step - loss: 0.4717 - accuracy: 0.8872 - mean_squared_error: 0.4717 - root_mean_squared_error: 0.6868 - precision: 0.0000e+00 - recall: 0.0000e+00 - precision_at_recall: 0.1128 - val_loss: 3.9855 - val_accuracy: 0.1981 - val_mean_squared_error: 3.9855 - val_root_mean_squared_error: 1.9964 - val_precision: 0.0000e+00 - val_recall: 0.0000e+00 - val_precision_at_recall: 0.8032\n",
      "Epoch 37/50\n",
      "8/8 [==============================] - 3s 337ms/step - loss: 0.4716 - accuracy: 0.8872 - mean_squared_error: 0.4716 - root_mean_squared_error: 0.6867 - precision: 0.0000e+00 - recall: 0.0000e+00 - precision_at_recall: 0.1128 - val_loss: 3.9867 - val_accuracy: 0.1981 - val_mean_squared_error: 3.9867 - val_root_mean_squared_error: 1.9967 - val_precision: 0.0000e+00 - val_recall: 0.0000e+00 - val_precision_at_recall: 0.8042\n",
      "Epoch 38/50\n",
      "8/8 [==============================] - 3s 336ms/step - loss: 0.4713 - accuracy: 0.8872 - mean_squared_error: 0.4713 - root_mean_squared_error: 0.6865 - precision: 0.0000e+00 - recall: 0.0000e+00 - precision_at_recall: 0.1128 - val_loss: 3.9877 - val_accuracy: 0.1981 - val_mean_squared_error: 3.9877 - val_root_mean_squared_error: 1.9969 - val_precision: 0.0000e+00 - val_recall: 0.0000e+00 - val_precision_at_recall: 0.8050\n"
     ]
    },
    {
     "name": "stdout",
     "output_type": "stream",
     "text": [
      "Epoch 39/50\n",
      "8/8 [==============================] - 3s 346ms/step - loss: 0.4711 - accuracy: 0.8872 - mean_squared_error: 0.4711 - root_mean_squared_error: 0.6864 - precision: 0.0000e+00 - recall: 0.0000e+00 - precision_at_recall: 0.1128 - val_loss: 3.9888 - val_accuracy: 0.1981 - val_mean_squared_error: 3.9888 - val_root_mean_squared_error: 1.9972 - val_precision: 0.0000e+00 - val_recall: 0.0000e+00 - val_precision_at_recall: 0.8020\n",
      "Epoch 40/50\n",
      "8/8 [==============================] - 3s 343ms/step - loss: 0.4711 - accuracy: 0.8872 - mean_squared_error: 0.4711 - root_mean_squared_error: 0.6863 - precision: 0.0000e+00 - recall: 0.0000e+00 - precision_at_recall: 0.1128 - val_loss: 3.9897 - val_accuracy: 0.1981 - val_mean_squared_error: 3.9897 - val_root_mean_squared_error: 1.9974 - val_precision: 0.0000e+00 - val_recall: 0.0000e+00 - val_precision_at_recall: 0.8021\n",
      "Epoch 41/50\n",
      "8/8 [==============================] - 3s 337ms/step - loss: 0.4709 - accuracy: 0.8872 - mean_squared_error: 0.4709 - root_mean_squared_error: 0.6862 - precision: 0.0000e+00 - recall: 0.0000e+00 - precision_at_recall: 0.1128 - val_loss: 3.9905 - val_accuracy: 0.1981 - val_mean_squared_error: 3.9905 - val_root_mean_squared_error: 1.9976 - val_precision: 0.0000e+00 - val_recall: 0.0000e+00 - val_precision_at_recall: 0.8020\n",
      "Epoch 42/50\n",
      "8/8 [==============================] - 3s 337ms/step - loss: 0.4708 - accuracy: 0.8872 - mean_squared_error: 0.4708 - root_mean_squared_error: 0.6861 - precision: 0.0000e+00 - recall: 0.0000e+00 - precision_at_recall: 0.1128 - val_loss: 3.9913 - val_accuracy: 0.1981 - val_mean_squared_error: 3.9913 - val_root_mean_squared_error: 1.9978 - val_precision: 0.0000e+00 - val_recall: 0.0000e+00 - val_precision_at_recall: 0.8020\n",
      "Epoch 43/50\n",
      "8/8 [==============================] - 3s 336ms/step - loss: 0.4707 - accuracy: 0.8872 - mean_squared_error: 0.4707 - root_mean_squared_error: 0.6861 - precision: 0.0000e+00 - recall: 0.0000e+00 - precision_at_recall: 0.1128 - val_loss: 3.9919 - val_accuracy: 0.1981 - val_mean_squared_error: 3.9919 - val_root_mean_squared_error: 1.9980 - val_precision: 0.0000e+00 - val_recall: 0.0000e+00 - val_precision_at_recall: 0.8020\n",
      "Epoch 44/50\n",
      "8/8 [==============================] - 3s 338ms/step - loss: 0.4705 - accuracy: 0.8872 - mean_squared_error: 0.4705 - root_mean_squared_error: 0.6860 - precision: 0.0000e+00 - recall: 0.0000e+00 - precision_at_recall: 0.1128 - val_loss: 3.9924 - val_accuracy: 0.1981 - val_mean_squared_error: 3.9924 - val_root_mean_squared_error: 1.9981 - val_precision: 0.0000e+00 - val_recall: 0.0000e+00 - val_precision_at_recall: 0.8020\n",
      "Epoch 45/50\n",
      "8/8 [==============================] - 3s 354ms/step - loss: 0.4704 - accuracy: 0.8872 - mean_squared_error: 0.4704 - root_mean_squared_error: 0.6859 - precision: 0.0000e+00 - recall: 0.0000e+00 - precision_at_recall: 0.1128 - val_loss: 3.9929 - val_accuracy: 0.1981 - val_mean_squared_error: 3.9929 - val_root_mean_squared_error: 1.9982 - val_precision: 0.0000e+00 - val_recall: 0.0000e+00 - val_precision_at_recall: 0.8020\n",
      "Epoch 46/50\n",
      "8/8 [==============================] - 3s 343ms/step - loss: 0.4703 - accuracy: 0.8872 - mean_squared_error: 0.4703 - root_mean_squared_error: 0.6858 - precision: 0.0000e+00 - recall: 0.0000e+00 - precision_at_recall: 0.1128 - val_loss: 3.9933 - val_accuracy: 0.1981 - val_mean_squared_error: 3.9933 - val_root_mean_squared_error: 1.9983 - val_precision: 0.0000e+00 - val_recall: 0.0000e+00 - val_precision_at_recall: 0.8021\n",
      "Epoch 47/50\n",
      "8/8 [==============================] - 3s 337ms/step - loss: 0.4702 - accuracy: 0.8872 - mean_squared_error: 0.4702 - root_mean_squared_error: 0.6857 - precision: 0.0000e+00 - recall: 0.0000e+00 - precision_at_recall: 0.1128 - val_loss: 3.9938 - val_accuracy: 0.1981 - val_mean_squared_error: 3.9938 - val_root_mean_squared_error: 1.9985 - val_precision: 0.0000e+00 - val_recall: 0.0000e+00 - val_precision_at_recall: 0.8021\n",
      "Epoch 48/50\n",
      "8/8 [==============================] - 3s 339ms/step - loss: 0.4702 - accuracy: 0.8872 - mean_squared_error: 0.4702 - root_mean_squared_error: 0.6857 - precision: 0.0000e+00 - recall: 0.0000e+00 - precision_at_recall: 0.1128 - val_loss: 3.9943 - val_accuracy: 0.1981 - val_mean_squared_error: 3.9943 - val_root_mean_squared_error: 1.9986 - val_precision: 0.0000e+00 - val_recall: 0.0000e+00 - val_precision_at_recall: 0.8021\n",
      "Epoch 49/50\n",
      "8/8 [==============================] - 3s 341ms/step - loss: 0.4701 - accuracy: 0.8872 - mean_squared_error: 0.4701 - root_mean_squared_error: 0.6856 - precision: 0.0000e+00 - recall: 0.0000e+00 - precision_at_recall: 0.1128 - val_loss: 3.9947 - val_accuracy: 0.1981 - val_mean_squared_error: 3.9947 - val_root_mean_squared_error: 1.9987 - val_precision: 0.0000e+00 - val_recall: 0.0000e+00 - val_precision_at_recall: 0.8021\n",
      "Epoch 50/50\n",
      "8/8 [==============================] - 3s 335ms/step - loss: 0.4701 - accuracy: 0.8872 - mean_squared_error: 0.4701 - root_mean_squared_error: 0.6856 - precision: 0.0000e+00 - recall: 0.0000e+00 - precision_at_recall: 0.1128 - val_loss: 3.9950 - val_accuracy: 0.1981 - val_mean_squared_error: 3.9950 - val_root_mean_squared_error: 1.9987 - val_precision: 0.0000e+00 - val_recall: 0.0000e+00 - val_precision_at_recall: 0.8022\n"
     ]
    }
   ],
   "source": [
    "# suffle = False -  (dont allow mix the data )\n",
    "\n",
    "# Train - (102106, 1, 40) / Test - (21892, 1, 40)\n",
    "ecg_train_batch_size = 11000 \n",
    "ecg_test_batch_size  = 2200 \n",
    "\n",
    "history_ecg = model_ecg_lstm.fit(X_train_ecg_freq, \n",
    "                                 y_train_ecg, \n",
    "                                 validation_split=0.2, \n",
    "                                 epochs=epochs, \n",
    "                                 batch_size=ecg_train_batch_size,\n",
    "                                 shuffle=False,\n",
    "                                 callbacks=[model_ecg_lstm_tensorboard_callback, \n",
    "                                            model_ecg_lstm_checkpoint_callback] )"
   ]
  },
  {
   "cell_type": "code",
   "execution_count": null,
   "metadata": {
    "scrolled": true
   },
   "outputs": [],
   "source": [
    "# list all data in history\n",
    "# print(history_ecg.history.keys())\n",
    "# path_his_ecg = \"History_ECG_Train__g9\" + str(epochs) + \"epochs_FINAL.png\"\n",
    "\n",
    "# # summarize history for accuracy\n",
    "# show_history(history_ecg)\n",
    "# plot_history(history_ecg)\n",
    "# plot_history(history_ecg, path=path_his_ecg)\n",
    "# plt.close()"
   ]
  },
  {
   "cell_type": "code",
   "execution_count": 26,
   "metadata": {},
   "outputs": [
    {
     "name": "stdout",
     "output_type": "stream",
     "text": [
      "10/10 [==============================] - 1s 112ms/step - loss: 1.1735 - accuracy: 0.7494 - mean_squared_error: 1.1735 - root_mean_squared_error: 1.0833 - precision: 0.0000e+00 - recall: 0.0000e+00 - precision_at_recall: 0.2506\n",
      "Train - ECG Signal\n",
      "Train LOSS: 117.35%\n",
      "Train ACCURACY: 74.94\n",
      "Train MEAN_SQUARED_ERROR: 1.17\n",
      "Train ROOT_MEAN_SQUARED_ERROR: 1.08\n",
      "Train PRECISION: 0.00%\n",
      "Train RECALL: 0.00%\n",
      "Train PRECISION_AT_RECALL: 25.06\n"
     ]
    }
   ],
   "source": [
    "#Evaluate's ECG model for train dataset\n",
    "\n",
    "scores_train_ecg = model_ecg_lstm.evaluate(x = X_train_ecg_freq, \n",
    "                                           y = y_train_ecg, \n",
    "                                           batch_size = ecg_train_batch_size, \n",
    "                                           verbose = 1)\n",
    "\n",
    "print(\"Train - ECG Signal\")\n",
    "print(\"Train %s: %.2f%%\" % (model_ecg_lstm.metrics_names[0].upper(), scores_train_ecg[0]*100))\n",
    "print(\"Train %s: %.2f\" % (model_ecg_lstm.metrics_names[1].upper(), scores_train_ecg[1]*100))\n",
    "print(\"Train %s: %.2f\" % (model_ecg_lstm.metrics_names[2].upper(), scores_train_ecg[2]))\n",
    "print(\"Train %s: %.2f\" % (model_ecg_lstm.metrics_names[3].upper(), scores_train_ecg[3]))\n",
    "print(\"Train %s: %.2f%%\" % (model_ecg_lstm.metrics_names[4].upper(), scores_train_ecg[4]*100))\n",
    "print(\"Train %s: %.2f%%\" % (model_ecg_lstm.metrics_names[5].upper(), scores_train_ecg[5]*100))\n",
    "print(\"Train %s: %.2f\" % (model_ecg_lstm.metrics_names[6].upper(), scores_train_ecg[6]*100))"
   ]
  },
  {
   "cell_type": "code",
   "execution_count": null,
   "metadata": {},
   "outputs": [],
   "source": [
    "#Evaluate's ECG model for test dataset\n",
    "\n",
    "score_test_ecg = model_ecg_lstm.evaluate(x = X_test_ecg_freq, \n",
    "                                         y = y_test_ecg, \n",
    "                                         batch_size = ecg_test_batch_size, \n",
    "                                         verbose = 1)\n",
    "\n",
    "print(\"Test - ECG Signal\")\n",
    "print(\"Test %s: %.4f%%\" % (model_ecg_lstm.metrics_names[0].upper(), score_test_ecg[0]*100))\n",
    "print(\"Test %s: %.4f%%\" % (model_ecg_lstm.metrics_names[1].upper(), score_test_ecg[1]*100))\n",
    "print(\"Test %s: %.4f%%\" % (model_ecg_lstm.metrics_names[2].upper(), score_test_ecg[2]*100))\n",
    "print(\"Test %s: %.4f%%\" % (model_ecg_lstm.metrics_names[3].upper(), score_test_ecg[3]*100))\n",
    "print(\"Test %s: %.4f%%\" % (model_ecg_lstm.metrics_names[4].upper(), score_test_ecg[4]*100))\n",
    "print(\"Test %s: %.4f%%\" % (model_ecg_lstm.metrics_names[5].upper(), score_test_ecg[5]*100))\n",
    "print(\"Test %s: %.4f%%\" % (model_ecg_lstm.metrics_names[6].upper(), score_test_ecg[6]*100))"
   ]
  },
  {
   "cell_type": "code",
   "execution_count": null,
   "metadata": {},
   "outputs": [],
   "source": [
    "# # #DONT ERASE this code\n",
    "\n",
    "path_json_ecg = \"model_bl_lstm_ecg_g9_20features_\" + str(epochs) + \"epochs_FINAL.json\"\n",
    "path_weights_ecg = \"model_bl_lstm_weights_ecg_g9_20features_\" + str(epochs) + \"epochs_FINAL.h5\"\n",
    "\n",
    "#Serialize model to json\n",
    "model_ecg_lstm_json = model_ecg_lstm.to_json()\n",
    "with open(\"./model_weights/\" + path_json_ecg, \"w\") as json_file:\n",
    "    json_file.write(model_ecg_lstm_json)\n",
    "    \n",
    "#Serialize weights to HDF5\n",
    "model_ecg_lstm.save_weights(\"./model_weights/\" + path_weights_ecg)\n",
    "\n",
    "print(\"ECG Model and Weights saved on the disk.\")"
   ]
  },
  {
   "cell_type": "markdown",
   "metadata": {},
   "source": [
    "### 2 - EMG train and test model"
   ]
  },
  {
   "cell_type": "code",
   "execution_count": 36,
   "metadata": {},
   "outputs": [],
   "source": [
    "model_emg_lstm = Sequential()\n",
    "\n",
    "model_emg_lstm.add(LSTM(X_train_emg_freq.shape[2], return_sequences=True,\n",
    "                                      input_shape=(X_train_emg_freq.shape[1], X_train_emg_freq.shape[2])))\n",
    "\n",
    "\n",
    "model_emg_lstm.add(LSTM(128, return_sequences=True))\n",
    "model_emg_lstm.add(Bidirectional(LSTM(128, return_sequences=True)))\n",
    "model_emg_lstm.add(Dropout(0.2))\n",
    "\n",
    "model_emg_lstm.add(LSTM(64, return_sequences=True))\n",
    "model_emg_lstm.add(Bidirectional(LSTM(64, return_sequences=True)))\n",
    "model_emg_lstm.add(Dropout(0.2))\n",
    "\n",
    "model_emg_lstm.add(LSTM(32, return_sequences=True))\n",
    "model_emg_lstm.add(Bidirectional(LSTM(32, return_sequences=True)))\n",
    "model_emg_lstm.add(Dropout(0.2))\n",
    "\n",
    "model_emg_lstm.add(LSTM(16, return_sequences=True))\n",
    "model_emg_lstm.add(Bidirectional(LSTM(16, return_sequences=True)))\n",
    "\n",
    "model_emg_lstm.add(Dense(1, activation='sigmoid'))"
   ]
  },
  {
   "cell_type": "code",
   "execution_count": 37,
   "metadata": {},
   "outputs": [],
   "source": [
    "model_emg_lstm.build( X_train_emg_freq.shape)"
   ]
  },
  {
   "cell_type": "code",
   "execution_count": 38,
   "metadata": {},
   "outputs": [
    {
     "name": "stdout",
     "output_type": "stream",
     "text": [
      "Model: \"sequential_1\"\n",
      "_________________________________________________________________\n",
      " Layer (type)                Output Shape              Param #   \n",
      "=================================================================\n",
      " lstm_11 (LSTM)              (None, 1, 40)             12960     \n",
      "                                                                 \n",
      " lstm_12 (LSTM)              (None, 1, 128)            86528     \n",
      "                                                                 \n",
      " bidirectional_6 (Bidirecti  (None, 1, 256)            263168    \n",
      " onal)                                                           \n",
      "                                                                 \n",
      " dropout_4 (Dropout)         (None, 1, 256)            0         \n",
      "                                                                 \n",
      " lstm_14 (LSTM)              (None, 1, 64)             82176     \n",
      "                                                                 \n",
      " bidirectional_7 (Bidirecti  (None, 1, 128)            66048     \n",
      " onal)                                                           \n",
      "                                                                 \n",
      " dropout_5 (Dropout)         (None, 1, 128)            0         \n",
      "                                                                 \n",
      " lstm_16 (LSTM)              (None, 1, 32)             20608     \n",
      "                                                                 \n",
      " bidirectional_8 (Bidirecti  (None, 1, 64)             16640     \n",
      " onal)                                                           \n",
      "                                                                 \n",
      " dropout_6 (Dropout)         (None, 1, 64)             0         \n",
      "                                                                 \n",
      " lstm_18 (LSTM)              (None, 1, 16)             5184      \n",
      "                                                                 \n",
      " bidirectional_9 (Bidirecti  (None, 1, 32)             4224      \n",
      " onal)                                                           \n",
      "                                                                 \n",
      " dense_1 (Dense)             (None, 1, 1)              33        \n",
      "                                                                 \n",
      "=================================================================\n",
      "Total params: 557569 (2.13 MB)\n",
      "Trainable params: 557569 (2.13 MB)\n",
      "Non-trainable params: 0 (0.00 Byte)\n",
      "_________________________________________________________________\n"
     ]
    }
   ],
   "source": [
    "model_emg_lstm.summary()"
   ]
  },
  {
   "cell_type": "code",
   "execution_count": null,
   "metadata": {},
   "outputs": [],
   "source": [
    "#Save the Summary's plan\n",
    "\n",
    "path_model_emg_lstm_summary = \"./images/Santos2023_Baseline_EMG_G4_Summary_FINAL.png\"\n",
    "\n",
    "plot_model(model_emg_lstm, to_file=path_model_emg_lstm_summary)\n"
   ]
  },
  {
   "cell_type": "code",
   "execution_count": null,
   "metadata": {},
   "outputs": [],
   "source": [
    "#Callbacks instructions\n",
    "\n",
    "#Peform visualization\n",
    "    #1 - Open cmd, go to the folder where this file is;\n",
    "    #2 - set the command: tensorboard --logdir logs/fit\n",
    "    #3 - Copy the link (http://localhost:6006/) in browser  \n",
    "\n",
    "log_dir = os.path.join(\"logs\", \"fit\", datetime.datetime.now().strftime(\"%Y%m%d-%H%M%S\"))\n",
    "model_emg_lstm_tensorboard_callback = tf.keras.callbacks.TensorBoard(log_dir=log_dir, histogram_freq=1)\n",
    "\n",
    "#Save the best performance\n",
    "checkpoint_filepath = \"./checkpoint_bline_emg\"\n",
    "\n",
    "model_emg_lstm_checkpoint_callback = tf.keras.callbacks.ModelCheckpoint( filepath = checkpoint_filepath,\n",
    "                                                                     save_weights_only = False, #Save the model and weights\n",
    "                                                                     monitor = \"val_accuracy\",\n",
    "                                                                     mode = \"max\",\n",
    "                                                                     save_best_only = True,\n",
    "                                                                     initial_value_theshold = True)\n",
    "\n",
    "#Early stop when a error occour\n",
    "model_emg_lstm_earlystopping_callback = tf.keras.callbacks.EarlyStopping(monitor='val_loss',\n",
    "                                                                 patience=5,\n",
    "                                                                 restore_best_weights=True)"
   ]
  },
  {
   "cell_type": "code",
   "execution_count": null,
   "metadata": {},
   "outputs": [],
   "source": [
    "adam_emg = keras.optimizers.legacy.Adam(learning_rate=learning_rate, \n",
    "                                     beta_1=0.9, beta_2=0.999, \n",
    "                                     epsilon=1e-08, \n",
    "                                     decay=0.0)\n",
    "\n",
    "model_emg_lstm.compile(optimizer=adam_emg, \n",
    "                   loss= \"mean_squared_error\", #tf.keras.losses.CategoricalCrossentropy(from_logits=True), #\n",
    "                   metrics=[\"accuracy\", \n",
    "                            tf.keras.metrics.MeanSquaredError(), \n",
    "                            tf.keras.metrics.RootMeanSquaredError(),\n",
    "                            tf.keras.metrics.Precision(),\n",
    "                            tf.keras.metrics.Recall(),\n",
    "                            tf.keras.metrics.PrecisionAtRecall(0.5)]                       )"
   ]
  },
  {
   "cell_type": "code",
   "execution_count": null,
   "metadata": {},
   "outputs": [],
   "source": [
    "# suffle = False - dont allow mix the data \n",
    "\n",
    "# Train - (9342, 1, 128) / Teste - (2336, 1, 128)\n",
    "emg_train_batch_size = 2800\n",
    "emg_test_batch_size = 700\n",
    "\n",
    "history_emg = model_emg_lstm.fit(X_train_emg_freq, \n",
    "                                 y_train_emg, \n",
    "                                 validation_split=0.2, \n",
    "                                 epochs=epochs, \n",
    "                                 batch_size=emg_train_batch_size, \n",
    "                                 shuffle=False,\n",
    "                                 callbacks=[model_emg_lstm_tensorboard_callback, \n",
    "                                            model_emg_lstm_checkpoint_callback] )"
   ]
  },
  {
   "cell_type": "code",
   "execution_count": null,
   "metadata": {},
   "outputs": [],
   "source": [
    "# list all data in history\n",
    "print(history_emg.history.keys())\n",
    "\n",
    "path_his_emg = \"History_EMG_Train_g4\" + str(epochs) + \"epochs_FINAL.png\"\n",
    "\n",
    "# summarize history for accuracy\n",
    "show_history(history_emg)\n",
    "plot_history(history_emg)\n",
    "plot_history(history_emg, path=path_his_emg)\n",
    "plt.close()"
   ]
  },
  {
   "cell_type": "code",
   "execution_count": null,
   "metadata": {},
   "outputs": [],
   "source": [
    "#Evaluate's EMG model for train dataset\n",
    "\n",
    "scores_train_emg = model_emg_lstm.evaluate(x = X_train_emg_freq, \n",
    "                                           y = y_train_emg, \n",
    "                                           batch_size = emg_train_batch_size, \n",
    "                                           verbose = 1)\n",
    "\n",
    "print(\"Train - EMG Signal\")\n",
    "print(\"Train %s: %.4f%%\" % (model_emg_lstm.metrics_names[0].upper(), scores_train_emg[0]*100))\n",
    "print(\"Train %s: %.4f%%\" % (model_emg_lstm.metrics_names[1].upper(), scores_train_emg[1]*100))\n",
    "print(\"Train %s: %.4f%%\" % (model_emg_lstm.metrics_names[2].upper(), scores_train_emg[2]*100))\n",
    "print(\"Train %s: %.4f%%\" % (model_emg_lstm.metrics_names[3].upper(), scores_train_emg[3]*100))\n",
    "print(\"Train %s: %.4f%%\" % (model_emg_lstm.metrics_names[4].upper(), scores_train_emg[4]*100))\n",
    "print(\"Train %s: %.4f%%\" % (model_emg_lstm.metrics_names[5].upper(), scores_train_emg[5]*100))\n",
    "print(\"Train %s: %.4f%%\" % (model_emg_lstm.metrics_names[6].upper(), scores_train_emg[6]*100))"
   ]
  },
  {
   "cell_type": "code",
   "execution_count": null,
   "metadata": {},
   "outputs": [],
   "source": [
    "# Evaluate's EMG model for test dataset\n",
    "\n",
    "score_test_emg = model_emg_lstm.evaluate(x = X_test_emg_freq, \n",
    "                                         y = y_test_emg, \n",
    "                                         batch_size = emg_test_batch_size, \n",
    "                                         verbose = 1)\n",
    "\n",
    "print(\"Test - EMG Signal\")\n",
    "print(\"Test %s: %.4f%%\" % (model_emg_lstm.metrics_names[0].upper(), score_test_emg[0]*100))\n",
    "print(\"Test %s: %.4f%%\" % (model_emg_lstm.metrics_names[1].upper(), score_test_emg[1]*100))\n",
    "print(\"Test %s: %.4f%%\" % (model_emg_lstm.metrics_names[2].upper(), score_test_emg[2]*100))\n",
    "print(\"Test %s: %.4f%%\" % (model_emg_lstm.metrics_names[3].upper(), score_test_emg[3]*100))\n",
    "print(\"Test %s: %.4f%%\" % (model_emg_lstm.metrics_names[4].upper(), score_test_emg[4]*100))\n",
    "print(\"Test %s: %.4f%%\" % (model_emg_lstm.metrics_names[5].upper(), score_test_emg[5]*100))\n",
    "print(\"Test %s: %.4f%%\" % (model_emg_lstm.metrics_names[6].upper(), score_test_emg[6]*100))"
   ]
  },
  {
   "cell_type": "code",
   "execution_count": null,
   "metadata": {},
   "outputs": [],
   "source": [
    "# DONT ERASE this code\n",
    "\n",
    "path_json_emg = \"model_bl_lstm_emg_g4_20features_\" + str(epochs) + \"epochs_FINAL.json\"\n",
    "path_weights_emg = \"model_bl_lstm_weights_emg_g4_20features_\" + str(epochs) + \"epochs_FINAL.h5\"\n",
    "\n",
    "# Serialize model to json\n",
    "model_emg_lstm_json = model_emg_lstm.to_json()\n",
    "with open(\"./model_weights/\"+ path_json_emg, \"w\") as json_file:\n",
    "    json_file.write(model_emg_lstm_json)\n",
    "    \n",
    "#Serialize weights to HDF5\n",
    "model_emg_lstm.save_weights(\"./model_weights/\" + path_weights_emg)\n",
    "\n",
    "print(\"EMG Model and Weights saved on the disk.\")"
   ]
  },
  {
   "cell_type": "markdown",
   "metadata": {},
   "source": [
    "### 3 - Train and test EEG model"
   ]
  },
  {
   "cell_type": "code",
   "execution_count": 33,
   "metadata": {},
   "outputs": [],
   "source": [
    "model_eeg_lstm = Sequential()\n",
    "\n",
    "model_eeg_lstm.add(Bidirectional(LSTM(X_train_eeg_freq.shape[2], return_sequences=True,\n",
    "                                      input_shape=(X_train_eeg_freq.shape[1], X_train_eeg_freq.shape[2]))))\n",
    "\n",
    "model_eeg_lstm.add(LSTM(256, return_sequences=True))\n",
    "model_eeg_lstm.add(Bidirectional(LSTM(256, return_sequences=True)))\n",
    "model_eeg_lstm.add(Dropout(0.2))\n",
    "\n",
    "model_eeg_lstm.add(LSTM(128, return_sequences=True))\n",
    "model_eeg_lstm.add(Bidirectional(LSTM(128, return_sequences=True)))\n",
    "model_eeg_lstm.add(Dropout(0.2))\n",
    "\n",
    "model_eeg_lstm.add(LSTM(64, return_sequences=True))\n",
    "model_eeg_lstm.add(Bidirectional(LSTM(64, return_sequences=True)))\n",
    "model_eeg_lstm.add(Dropout(0.2))\n",
    "\n",
    "model_eeg_lstm.add(LSTM(32, return_sequences=True))\n",
    "model_eeg_lstm.add(Bidirectional(LSTM(32, return_sequences=True)))\n",
    "model_eeg_lstm.add(Dropout(0.2))\n",
    "\n",
    "model_eeg_lstm.add(LSTM(16, return_sequences=True))\n",
    "model_eeg_lstm.add(Bidirectional(LSTM(16, return_sequences=True)))\n",
    "\n",
    "model_eeg_lstm.add(Dense(1, activation='sigmoid'))"
   ]
  },
  {
   "cell_type": "code",
   "execution_count": 34,
   "metadata": {},
   "outputs": [],
   "source": [
    "model_eeg_lstm.build(X_train_eeg_freq.shape)"
   ]
  },
  {
   "cell_type": "code",
   "execution_count": 35,
   "metadata": {},
   "outputs": [
    {
     "name": "stdout",
     "output_type": "stream",
     "text": [
      "Model: \"sequential\"\n",
      "_________________________________________________________________\n",
      " Layer (type)                Output Shape              Param #   \n",
      "=================================================================\n",
      " bidirectional (Bidirection  (329920, 1, 80)           25920     \n",
      " al)                                                             \n",
      "                                                                 \n",
      " lstm_1 (LSTM)               (329920, 1, 256)          345088    \n",
      "                                                                 \n",
      " bidirectional_1 (Bidirecti  (329920, 1, 512)          1050624   \n",
      " onal)                                                           \n",
      "                                                                 \n",
      " dropout (Dropout)           (329920, 1, 512)          0         \n",
      "                                                                 \n",
      " lstm_3 (LSTM)               (329920, 1, 128)          328192    \n",
      "                                                                 \n",
      " bidirectional_2 (Bidirecti  (329920, 1, 256)          263168    \n",
      " onal)                                                           \n",
      "                                                                 \n",
      " dropout_1 (Dropout)         (329920, 1, 256)          0         \n",
      "                                                                 \n",
      " lstm_5 (LSTM)               (329920, 1, 64)           82176     \n",
      "                                                                 \n",
      " bidirectional_3 (Bidirecti  (329920, 1, 128)          66048     \n",
      " onal)                                                           \n",
      "                                                                 \n",
      " dropout_2 (Dropout)         (329920, 1, 128)          0         \n",
      "                                                                 \n",
      " lstm_7 (LSTM)               (329920, 1, 32)           20608     \n",
      "                                                                 \n",
      " bidirectional_4 (Bidirecti  (329920, 1, 64)           16640     \n",
      " onal)                                                           \n",
      "                                                                 \n",
      " dropout_3 (Dropout)         (329920, 1, 64)           0         \n",
      "                                                                 \n",
      " lstm_9 (LSTM)               (329920, 1, 16)           5184      \n",
      "                                                                 \n",
      " bidirectional_5 (Bidirecti  (329920, 1, 32)           4224      \n",
      " onal)                                                           \n",
      "                                                                 \n",
      " dense (Dense)               (329920, 1, 1)            33        \n",
      "                                                                 \n",
      "=================================================================\n",
      "Total params: 2207905 (8.42 MB)\n",
      "Trainable params: 2207905 (8.42 MB)\n",
      "Non-trainable params: 0 (0.00 Byte)\n",
      "_________________________________________________________________\n"
     ]
    }
   ],
   "source": [
    "model_eeg_lstm.summary()"
   ]
  },
  {
   "cell_type": "code",
   "execution_count": null,
   "metadata": {},
   "outputs": [],
   "source": [
    "#Save the Summary's EEG-ECG plan\n",
    "\n",
    "path_model_eeg_lstm_summary = \"./images/Santos2023_Baseline_EEG_Summary_FINAL.png\"\n",
    "\n",
    "plot_model(model_eeg_lstm, to_file=path_model_eeg_lstm_summary)"
   ]
  },
  {
   "cell_type": "code",
   "execution_count": null,
   "metadata": {},
   "outputs": [],
   "source": [
    "#Callbacks instructions\n",
    "\n",
    "#Peform visualization\n",
    "    #1 - Open cmd, go to the folder where this file is;\n",
    "    #2 - set the command: tensorboard --logdir logs/fit\n",
    "    #3 - Copy the link (http://localhost:6006/) in browser  \n",
    "\n",
    "log_dir_eeg = os.path.join(\"logs\", \"fit_eeg\", datetime.datetime.now().strftime(\"%Y%m%d-%H%M%S\"))\n",
    "model_eeg_lstm_tensorboard_callback = tf.keras.callbacks.TensorBoard(log_dir=log_dir_eeg, histogram_freq=1)\n",
    "\n",
    "#Save the best performance\n",
    "checkpoint_filepath = \"./checkpoint_eeg\"\n",
    "\n",
    "model_eeg_lstm_checkpoint_callback = tf.keras.callbacks.ModelCheckpoint( filepath = checkpoint_filepath,\n",
    "                                                                     save_weights_only = False, #Save the model and weights\n",
    "                                                                     monitor = \"val_accuracy\",\n",
    "                                                                     mode = \"max\",\n",
    "                                                                     save_best_only = True,\n",
    "                                                                     initial_value_theshold = True)\n",
    "\n",
    "#Early stop when a error occour\n",
    "model_eeg_lstm_earlystopping_callback = tf.keras.callbacks.EarlyStopping(monitor='val_loss',\n",
    "                                                                 patience=5,\n",
    "                                                                 restore_best_weights=True)"
   ]
  },
  {
   "cell_type": "code",
   "execution_count": null,
   "metadata": {},
   "outputs": [],
   "source": [
    "adam_eeg = keras.optimizers.legacy.Adam(learning_rate=learning_rate, \n",
    "                                     beta_1=0.9, \n",
    "                                     beta_2=0.999, \n",
    "                                     epsilon=1e-08, \n",
    "                                     decay=0.0)\n",
    "\n",
    "model_eeg_lstm.compile(optimizer=adam_eeg, \n",
    "                   loss= \"mean_squared_error\", #tf.keras.losses.CategoricalCrossentropy(from_logits=True), #\n",
    "                   metrics=[\"accuracy\", \n",
    "                            tf.keras.metrics.MeanSquaredError(), \n",
    "                            tf.keras.metrics.RootMeanSquaredError(),\n",
    "                            tf.keras.metrics.Precision(),\n",
    "                            tf.keras.metrics.Recall(),\n",
    "                            tf.keras.metrics.PrecisionAtRecall(0.5)]\n",
    "                       )\n"
   ]
  },
  {
   "cell_type": "code",
   "execution_count": null,
   "metadata": {},
   "outputs": [],
   "source": [
    "# Train - (531581, 1, 40) / Teste -(132896, 1, 40)\n",
    "\n",
    "eeg_train_batch_size = 54000 \n",
    "eeg_test_batch_size = 14000"
   ]
  },
  {
   "cell_type": "code",
   "execution_count": null,
   "metadata": {},
   "outputs": [],
   "source": [
    "# suffle = False - dont allow mix the data \n",
    "\n",
    "history_eeg = model_eeg_lstm.fit(X_train_eeg_freq, \n",
    "                                 y_train_eeg, \n",
    "                                 validation_split=0.2, \n",
    "                                 epochs=epochs, \n",
    "                                 batch_size=eeg_train_batch_size, \n",
    "                                 shuffle=True,\n",
    "                                 callbacks=[model_eeg_lstm_tensorboard_callback, \n",
    "                                            model_eeg_lstm_checkpoint_callback ] )\n"
   ]
  },
  {
   "cell_type": "code",
   "execution_count": null,
   "metadata": {},
   "outputs": [],
   "source": [
    "# list all data in history\n",
    "print(history_eeg.history.keys())\n",
    "\n",
    "path_his_eeg = \"History_EEG_Train_\" + str(epochs) + \"epochs_FINAL\"\n",
    "\n",
    "# summarize history for accuracy\n",
    "show_history(history_eeg)\n",
    "plot_history(history_eeg)\n",
    "plot_history(history_eeg, path=path_his_eeg)\n",
    "plt.close()"
   ]
  },
  {
   "cell_type": "code",
   "execution_count": null,
   "metadata": {},
   "outputs": [],
   "source": [
    "#Evaluate's eeg model for train dataset\n",
    "\n",
    "score_train_eeg = model_eeg_lstm.evaluate(x = X_train_eeg_freq, y = y_train_eeg, \n",
    "                                           batch_size = eeg_train_batch_size,   verbose = 1)\n",
    "\n",
    "print(\"EEG Train Signal\")\n",
    "\n",
    "print(\"Train %s: %.4f%%\" % (model_eeg_lstm.metrics_names[0].upper(), score_train_eeg[0]*100))\n",
    "print(\"Train %s: %.4f%%\" % (model_eeg_lstm.metrics_names[1].upper(), score_train_eeg[1]*100))\n",
    "print(\"Train %s: %.4f%%\" % (model_eeg_lstm.metrics_names[2].upper(), score_train_eeg[2]*100))\n",
    "print(\"Train %s: %.4f%%\" % (model_eeg_lstm.metrics_names[3].upper(), score_train_eeg[3]*100))\n",
    "print(\"Train %s: %.4f%%\" % (model_eeg_lstm.metrics_names[4].upper(), score_train_eeg[4]*100))\n",
    "print(\"Train %s: %.4f%%\" % (model_eeg_lstm.metrics_names[5].upper(), score_train_eeg[5]*100))\n",
    "print(\"Train %s: %.4f%%\" % (model_eeg_lstm.metrics_names[6].upper(), score_train_eeg[6]*100))"
   ]
  },
  {
   "cell_type": "code",
   "execution_count": null,
   "metadata": {},
   "outputs": [],
   "source": [
    "score_test_eeg = model_eeg_lstm.evaluate(x = X_test_eeg_freq, y = y_test_eeg, \n",
    "                                         batch_size = eeg_test_batch_size, verbose = 1)\n",
    "\n",
    "print(\"EEG Test Signal\")\n",
    "print(\"Test %s: %.4f%%\" % (model_eeg_lstm.metrics_names[0].upper(), score_test_eeg[0]*100))\n",
    "print(\"Test %s: %.4f%%\" % (model_eeg_lstm.metrics_names[1].upper(), score_test_eeg[1]*100))\n",
    "print(\"Test %s: %.4f%%\" % (model_eeg_lstm.metrics_names[2].upper(), score_test_eeg[2]*100))\n",
    "print(\"Test %s: %.4f%%\" % (model_eeg_lstm.metrics_names[3].upper(), score_test_eeg[3]*100))\n",
    "print(\"Test %s: %.4f%%\" % (model_eeg_lstm.metrics_names[4].upper(), score_test_eeg[4]*100))\n",
    "print(\"Test %s: %.4f%%\" % (model_eeg_lstm.metrics_names[5].upper(), score_test_eeg[5]*100))\n",
    "print(\"Test %s: %.4f%%\" % (model_eeg_lstm.metrics_names[6].upper(), score_test_eeg[6]*100))"
   ]
  },
  {
   "cell_type": "code",
   "execution_count": null,
   "metadata": {},
   "outputs": [],
   "source": [
    "# DONT ERASE this code\n",
    "\n",
    "path_json_eeg = \"model_bl_lstm_eeg_20features_\" + str(epochs) + \"epochs_FINAL.json\"\n",
    "path_weights_eeg = \"model_bl_lstm_weights_eeg_20features_\" + str(epochs) + \"epochs_FINAL.h5\"\n",
    "\n",
    "# Serialize model to json\n",
    "model_eeg_lstm_json = model_eeg_lstm.to_json()\n",
    "with open(\"./model_weights/\" + path_json_eeg, \"w\") as json_file:\n",
    "    json_file.write(model_eeg_lstm_json)\n",
    "    \n",
    "#Serialize weights to HDF5\n",
    "model_eeg_lstm.save_weights(\"./model_weights/\" + path_weights_eeg)\n",
    "\n",
    "print(\"EEG Best Model and Weights saved on the disk.\")"
   ]
  },
  {
   "cell_type": "markdown",
   "metadata": {},
   "source": [
    "### Others"
   ]
  },
  {
   "cell_type": "code",
   "execution_count": null,
   "metadata": {},
   "outputs": [],
   "source": [
    "\n",
    "\n",
    "# train_loss_ecg = history_ecg.history['loss']\n",
    "# train_acc_ecg = history_ecg.history['accuracy']\n",
    "# train_mse_ecg = history_ecg.history['mean_squared_error']\n",
    "# train_rmse_ecg = history_ecg.history['root_mean_squared_error']\n",
    "# train_precision_ecg = history_ecg.history['precision']\n",
    "# train_recall_ecg = history_ecg.history['recall']\n",
    "# train_precision_recall_ecg = history_ecg.history['precision_at_recall']\n",
    "\n",
    "# train_val_loss_ecg = history_ecg.history['val_loss']\n",
    "# train_val_acc_ecg = history_ecg.history['val_accuracy']\n",
    "# train_val_mse_ecg = history_ecg.history['val_mean_squared_error']\n",
    "# train_val_rmse_ecg = history_ecg.history['val_root_mean_squared_error']\n",
    "# train_val_precision_ecg = history_ecg.history['val_precision']\n",
    "# train_val_recall_ecg = history_ecg.history['val_recall']\n",
    "# train_val_precision_recall_ecg = history_ecg.history['val_precision_at_recall']"
   ]
  }
 ],
 "metadata": {
  "kernelspec": {
   "display_name": "Python 3 (ipykernel)",
   "language": "python",
   "name": "python3"
  },
  "language_info": {
   "codemirror_mode": {
    "name": "ipython",
    "version": 3
   },
   "file_extension": ".py",
   "mimetype": "text/x-python",
   "name": "python",
   "nbconvert_exporter": "python",
   "pygments_lexer": "ipython3",
   "version": "3.9.13"
  }
 },
 "nbformat": 4,
 "nbformat_minor": 2
}
